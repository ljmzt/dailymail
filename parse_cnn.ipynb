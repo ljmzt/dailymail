{
 "cells": [
  {
   "cell_type": "code",
   "execution_count": 1,
   "id": "24ab7b87",
   "metadata": {},
   "outputs": [],
   "source": [
    "import glob"
   ]
  },
  {
   "cell_type": "code",
   "execution_count": 1,
   "id": "ed0e368c",
   "metadata": {},
   "outputs": [],
   "source": [
    "with open('dataset/dailymail/stories/fffdfb56fdf1a12d364562cc2b9b1d4de7481dee.story') as fid:\n",
    "    lines = fid.read().splitlines()"
   ]
  },
  {
   "cell_type": "code",
   "execution_count": 5,
   "id": "44eab4c4",
   "metadata": {},
   "outputs": [
    {
     "data": {
      "text/plain": [
       "['Tiger Woods’s frustration at the lamentable state of his game boiled over on Saturday when he launched a foul-mouthed volley at a television cameraman.',\n",
       " '',\n",
       " 'The American had missed yet another fairway at the WGC-Bridgestone Invitational and the cameraman was busy trying to keep up as Woods made his way fuming into the undergrowth.',\n",
       " '',\n",
       " 'Struggle: Defending champion Tiger Woods has yet to find his form an is 15 shots of the pace on one-over-par',\n",
       " '',\n",
       " 'Desire: Woods needs to finish well in the next two tournaments if he hopes to qualify for the FedEx Cup',\n",
       " '',\n",
       " 'Realising he was being closely ',\n",
       " 'pursued, Woods – seemingly oblivious to the fact his large gallery was ',\n",
       " 'full of young kids - turned round and said, loudly: ’Guys, give me a ',\n",
       " 'little f***ing space.’',\n",
       " '',\n",
       " 'The cursing was picked up by Sky television, who issued an apology to any viewers who were offended.\\xa0',\n",
       " '',\n",
       " 'This',\n",
       " ' was the week where Woods, an eight-time winner at Firestone, was hoping',\n",
       " ' to revive his career and make a case for a Ryder Cup place following ',\n",
       " 'four months out after back surgery.',\n",
       " '',\n",
       " 'Instead he’s hopelessly adrift at ',\n",
       " 'tied 36th after a poor third round of 72.',\n",
       " '',\n",
       " 'Woods',\n",
       " ' is now nine rounds into his comeback, but only two have been under par.',\n",
       " ' At least he was more sociable afterwards.',\n",
       " '',\n",
       " 'Asked which holes he was most',\n",
       " ' pleased about for his first three rounds, he smiled and responded: ’The',\n",
       " ' 19th.’',\n",
       " '',\n",
       " 'Expletive: Woods was heard swearing at the cameras after a poor shoot on the sixth hole in Ohio',\n",
       " '',\n",
       " 'VIDEO WGC-Bridgestone Invitational - Day 4\\xa0\\xa0',\n",
       " '',\n",
       " '@highlight',\n",
       " '',\n",
       " \"Woods said: ’Guys, give me a little f***ing space' to cameraman\",\n",
       " '',\n",
       " '@highlight',\n",
       " '',\n",
       " 'The cursing was picked up by Sky television, who issued an apology to any viewers who were offended',\n",
       " '',\n",
       " '@highlight',\n",
       " '',\n",
       " 'Woods is left hopelessly adrift at tied 36th after a poor third round of 72']"
      ]
     },
     "execution_count": 5,
     "metadata": {},
     "output_type": "execute_result"
    }
   ],
   "source": [
    "lines"
   ]
  },
  {
   "cell_type": "code",
   "execution_count": 7,
   "id": "f1d22c73",
   "metadata": {},
   "outputs": [
    {
     "data": {
      "text/plain": [
       "'VIDEO WGC-Bridgestone Invitational - Day 4'"
      ]
     },
     "execution_count": 7,
     "metadata": {},
     "output_type": "execute_result"
    }
   ],
   "source": [
    "lines[-13].strip()"
   ]
  },
  {
   "cell_type": "code",
   "execution_count": 8,
   "id": "6d4259a7",
   "metadata": {},
   "outputs": [
    {
     "data": {
      "text/plain": [
       "''"
      ]
     },
     "execution_count": 8,
     "metadata": {},
     "output_type": "execute_result"
    }
   ],
   "source": [
    "lines[-12].strip()"
   ]
  },
  {
   "cell_type": "code",
   "execution_count": 11,
   "id": "20b2925d",
   "metadata": {},
   "outputs": [],
   "source": [
    "with open('dataset/dailymail/stories/801c63b8b4be47be17804e8c5621ba6e7addb800.story') as fid:\n",
    "    lines = fid.read().splitlines()"
   ]
  },
  {
   "cell_type": "code",
   "execution_count": 12,
   "id": "8cbf8c30",
   "metadata": {},
   "outputs": [
    {
     "data": {
      "text/plain": [
       "[\"The new rating system is part of a 'transparency drive' by Jeremy Hunt to raise NHS standards\",\n",
       " '',\n",
       " 'GPs are to be publicly rated on how well they care for their elderly patients – with red ‘traffic light’ warnings for those who fall behind.',\n",
       " '',\n",
       " 'Ministers want to publish information on the internet about how good or bad doctors are at keeping the over-60s out of hospital.',\n",
       " '',\n",
       " 'Surgeries where too many are admitted to hospital as emergencies will be rated as ‘red’ on the NHS Choices website. Those where the number is in line with expectations, or better, will be rated green.',\n",
       " '',\n",
       " 'Ministers hope the move will raise standards among England’s GPs, take pressure off A&E departments, and save the NHS millions by cutting needless hospital stays.',\n",
       " '',\n",
       " 'The move is the latest in a ‘transparency drive’ spearheaded by Health Secretary Jeremy Hunt, who thinks standards among England’s 36,000 GPs are far too variable.',\n",
       " '',\n",
       " 'Two weeks ago The Mail on Sunday revealed how he was planning to rate GPs on how well they spotted early signs of cancer.\\xa0',\n",
       " '',\n",
       " 'Government sources say that the size, age profile and social make-up of each surgery’s patient list will be taken into account to avoid unfairly labelling individual doctors.\\xa0',\n",
       " '',\n",
       " 'Last night charities and patient groups welcomed the initiative, but the Royal College of GPs called it another ‘blunt instrument’.',\n",
       " '',\n",
       " 'Caroline Davies of Age UK said: ‘Any measure that encourages better planning of care, gives people confidence in their GP practice and reduces avoidable hospital admissions is welcome.’\\xa0',\n",
       " '',\n",
       " 'She added that some GPs needed ‘additional training’ to help elderly patients stay fit, healthy and independent.',\n",
       " '',\n",
       " 'Dr Maureen Baker, chairman of the Royal College of GPs, said greater transparency could bring benefits if done in a ‘meaningful’ way.',\n",
       " '',\n",
       " 'But she said: ‘Any approach that involves the naming and shaming of individual GPs and practices or that uses blunt instruments such as “traffic lights” to measure the care we provide to our patients would be counter-productive and extremely damaging to the unique relationship that GPs have with their patients.',\n",
       " '',\n",
       " 'Surgeries where too many elderly patients are referred to hospital will show up as having a red warning on the NHS Choices website, while those where the number is in line or under expectations will show up as green',\n",
       " '',\n",
       " '‘While initiatives like this might seem beneficial at face value, the data that would be used to inform such ratings would be very complex and could easily be misinterpreted so we must approach with caution.’',\n",
       " '',\n",
       " 'Other GPs are much more critical, believing Mr Hunt is determined to undermine doctors’ credibility so he can drive down their pay – a charge the Health Secretary denies.',\n",
       " '',\n",
       " 'But others are supportive. Dr Neil Bacon, founder of doctor comparison site iWantGreatCare, said: ‘There’s a huge appetite from patients for information about their GPs.\\xa0',\n",
       " '',\n",
       " \"'More and more are realising that there’s such a variation in quality between them. Most are good; some are awful.’\",\n",
       " '',\n",
       " '\\xa0',\n",
       " '',\n",
       " '@highlight',\n",
       " '',\n",
       " 'GPs to be ranked on how well they keep elderly patients out of hospital',\n",
       " '',\n",
       " '@highlight',\n",
       " '',\n",
       " 'Those referring too many people will show up as red on NHS website',\n",
       " '',\n",
       " '@highlight',\n",
       " '',\n",
       " 'Surgeries with referrals in line or below expectations will appear green']"
      ]
     },
     "execution_count": 12,
     "metadata": {},
     "output_type": "execute_result"
    }
   ],
   "source": [
    "lines"
   ]
  },
  {
   "cell_type": "markdown",
   "id": "11617453",
   "metadata": {},
   "source": [
    "So it will first strip, then add '.' to some sentences, then join"
   ]
  },
  {
   "cell_type": "markdown",
   "id": "d33f94f3",
   "metadata": {},
   "source": [
    "see stuffs here https://huggingface.co/datasets/cnn_dailymail/blob/main/cnn_dailymail.py"
   ]
  },
  {
   "cell_type": "code",
   "execution_count": 5,
   "id": "8d650c06",
   "metadata": {},
   "outputs": [
    {
     "data": {
      "text/plain": [
       "{'!', '\"', \"'\", '.', '?', '’', '”'}"
      ]
     },
     "execution_count": 5,
     "metadata": {},
     "output_type": "execute_result"
    }
   ],
   "source": [
    "ends = set(['.','\\'','\\\"','!','?','\\u2019','\\u201d'])\n",
    "ends"
   ]
  },
  {
   "cell_type": "code",
   "execution_count": 4,
   "id": "afe8210e",
   "metadata": {},
   "outputs": [],
   "source": [
    "def parse(filename):\n",
    "    with open(filename) as fid:\n",
    "        lines = fid.read().splitlines()\n",
    "        \n",
    "    n = len(lines)\n",
    "    output_raw = []\n",
    "    output_highlight = []\n",
    "    in_highlight = False\n",
    "    \n",
    "    for i, line in enumerate(lines):\n",
    "        if not line:  continue\n",
    "        line = line.strip()\n",
    "        if '@highlight' in line:\n",
    "            in_highlight = True\n",
    "            continue\n",
    "        \n",
    "        # add a .\n",
    "        if i == n - 1 or lines[i+1] == '':\n",
    "            if line and line[-1] not in ends:  line += '.'\n",
    "        \n",
    "        if in_highlight:\n",
    "            output_highlight.append(line)\n",
    "        else:\n",
    "            output_raw.append(line)\n",
    "        \n",
    "    return ' '.join(output_raw), ' '.join(output_highlight), lines"
   ]
  },
  {
   "cell_type": "code",
   "execution_count": 45,
   "id": "ecee65cd",
   "metadata": {},
   "outputs": [
    {
     "data": {
      "text/plain": [
       "(\"The new rating system is part of a 'transparency drive' by Jeremy Hunt to raise NHS standards. GPs are to be publicly rated on how well they care for their elderly patients – with red ‘traffic light’ warnings for those who fall behind. Ministers want to publish information on the internet about how good or bad doctors are at keeping the over-60s out of hospital. Surgeries where too many are admitted to hospital as emergencies will be rated as ‘red’ on the NHS Choices website. Those where the number is in line with expectations, or better, will be rated green. Ministers hope the move will raise standards among England’s GPs, take pressure off A&E departments, and save the NHS millions by cutting needless hospital stays. The move is the latest in a ‘transparency drive’ spearheaded by Health Secretary Jeremy Hunt, who thinks standards among England’s 36,000 GPs are far too variable. Two weeks ago The Mail on Sunday revealed how he was planning to rate GPs on how well they spotted early signs of cancer. Government sources say that the size, age profile and social make-up of each surgery’s patient list will be taken into account to avoid unfairly labelling individual doctors. Last night charities and patient groups welcomed the initiative, but the Royal College of GPs called it another ‘blunt instrument’. Caroline Davies of Age UK said: ‘Any measure that encourages better planning of care, gives people confidence in their GP practice and reduces avoidable hospital admissions is welcome.’ She added that some GPs needed ‘additional training’ to help elderly patients stay fit, healthy and independent. Dr Maureen Baker, chairman of the Royal College of GPs, said greater transparency could bring benefits if done in a ‘meaningful’ way. But she said: ‘Any approach that involves the naming and shaming of individual GPs and practices or that uses blunt instruments such as “traffic lights” to measure the care we provide to our patients would be counter-productive and extremely damaging to the unique relationship that GPs have with their patients. Surgeries where too many elderly patients are referred to hospital will show up as having a red warning on the NHS Choices website, while those where the number is in line or under expectations will show up as green. ‘While initiatives like this might seem beneficial at face value, the data that would be used to inform such ratings would be very complex and could easily be misinterpreted so we must approach with caution.’ Other GPs are much more critical, believing Mr Hunt is determined to undermine doctors’ credibility so he can drive down their pay – a charge the Health Secretary denies. But others are supportive. Dr Neil Bacon, founder of doctor comparison site iWantGreatCare, said: ‘There’s a huge appetite from patients for information about their GPs. 'More and more are realising that there’s such a variation in quality between them. Most are good; some are awful.’ \",\n",
       " 'GPs to be ranked on how well they keep elderly patients out of hospital. Those referring too many people will show up as red on NHS website. Surgeries with referrals in line or below expectations will appear green.')"
      ]
     },
     "execution_count": 45,
     "metadata": {},
     "output_type": "execute_result"
    }
   ],
   "source": [
    "x, y, lines = parse('dataset/dailymail/stories/801c63b8b4be47be17804e8c5621ba6e7addb800.story')\n",
    "x, y"
   ]
  },
  {
   "cell_type": "code",
   "execution_count": 34,
   "id": "391d833b",
   "metadata": {},
   "outputs": [
    {
     "data": {
      "text/plain": [
       "['',\n",
       " 'GPs to be ranked on how well they keep elderly patients out of hospital',\n",
       " '',\n",
       " '@highlight',\n",
       " '',\n",
       " 'Those referring too many people will show up as red on NHS website',\n",
       " '',\n",
       " '@highlight',\n",
       " '',\n",
       " 'Surgeries with referrals in line or below expectations will appear green']"
      ]
     },
     "execution_count": 34,
     "metadata": {},
     "output_type": "execute_result"
    }
   ],
   "source": [
    "lines[-10:]"
   ]
  },
  {
   "cell_type": "code",
   "execution_count": 31,
   "id": "8afd540e",
   "metadata": {},
   "outputs": [
    {
     "data": {
      "text/plain": [
       "' GPs to be ranked on how well they keep elderly patients out of hospital.   Those referring too many people will show up as red on NHS website.   Surgeries with referrals in line or below expectations will appear green.'"
      ]
     },
     "execution_count": 31,
     "metadata": {},
     "output_type": "execute_result"
    }
   ],
   "source": [
    "y"
   ]
  },
  {
   "cell_type": "code",
   "execution_count": 2,
   "id": "2422074a",
   "metadata": {},
   "outputs": [
    {
     "data": {
      "text/plain": [
       "219506"
      ]
     },
     "execution_count": 2,
     "metadata": {},
     "output_type": "execute_result"
    }
   ],
   "source": [
    "files = glob.glob('dataset/dailymail/stories/*.story')\n",
    "len(files)"
   ]
  },
  {
   "cell_type": "code",
   "execution_count": 8,
   "id": "3aaf3079",
   "metadata": {},
   "outputs": [],
   "source": [
    "with open('dataset/dailymail/onebigfile.txt','w') as fid:\n",
    "    fid.write('story\\tsummary\\n')\n",
    "    for file in files:\n",
    "        x, y, _ = parse(file)\n",
    "        if len(y) == 0:\n",
    "            print(f\"error {file}\")\n",
    "        fid.write(x+'\\t'+y+'\\n')"
   ]
  },
  {
   "cell_type": "code",
   "execution_count": 60,
   "id": "2179a91f",
   "metadata": {},
   "outputs": [
    {
     "data": {
      "text/plain": [
       "1"
      ]
     },
     "execution_count": 60,
     "metadata": {},
     "output_type": "execute_result"
    }
   ],
   "source": [
    "len(' '.join(['','']))"
   ]
  }
 ],
 "metadata": {
  "kernelspec": {
   "display_name": "Python 3 (ipykernel)",
   "language": "python",
   "name": "python3"
  },
  "language_info": {
   "codemirror_mode": {
    "name": "ipython",
    "version": 3
   },
   "file_extension": ".py",
   "mimetype": "text/x-python",
   "name": "python",
   "nbconvert_exporter": "python",
   "pygments_lexer": "ipython3",
   "version": "3.9.13"
  }
 },
 "nbformat": 4,
 "nbformat_minor": 5
}
