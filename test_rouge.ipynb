{
 "cells": [
  {
   "cell_type": "code",
   "execution_count": 163,
   "id": "e7684146",
   "metadata": {},
   "outputs": [],
   "source": [
    "from torchmetrics.functional.text.rouge import rouge_score"
   ]
  },
  {
   "cell_type": "code",
   "execution_count": 2,
   "id": "ee30f081",
   "metadata": {},
   "outputs": [
    {
     "data": {
      "text/plain": [
       "{'rouge1_fmeasure': tensor(0.7500),\n",
       " 'rouge1_precision': tensor(0.7500),\n",
       " 'rouge1_recall': tensor(0.7500),\n",
       " 'rouge2_fmeasure': tensor(0.),\n",
       " 'rouge2_precision': tensor(0.),\n",
       " 'rouge2_recall': tensor(0.)}"
      ]
     },
     "execution_count": 2,
     "metadata": {},
     "output_type": "execute_result"
    }
   ],
   "source": [
    "preds = \"My name is John\"\n",
    "target = \"Is your name John\"\n",
    "rouge_score(preds, target, rouge_keys=('rouge1','rouge2'))"
   ]
  },
  {
   "cell_type": "code",
   "execution_count": 35,
   "id": "aeb85a46",
   "metadata": {},
   "outputs": [],
   "source": [
    "from bpe_dataset_fft import BPEDataset\n",
    "from bpe_tokenizer import BPETokenizer\n",
    "from mixed_transformer_lm import TransformerLM\n",
    "import torch\n",
    "import numpy as np"
   ]
  },
  {
   "cell_type": "code",
   "execution_count": 4,
   "id": "916e6227",
   "metadata": {},
   "outputs": [],
   "source": [
    "max_vocab = 10000\n",
    "max_len1 = 1024\n",
    "max_len2 = 128"
   ]
  },
  {
   "cell_type": "code",
   "execution_count": 6,
   "id": "8e6245c5",
   "metadata": {},
   "outputs": [],
   "source": [
    "tokenizer = BPETokenizer(None, \n",
    "                         'BPE_vocab_10000.pickle',\n",
    "                         max_vocab,\n",
    "                         drop=0.0)"
   ]
  },
  {
   "cell_type": "code",
   "execution_count": 7,
   "id": "077722a0",
   "metadata": {},
   "outputs": [],
   "source": [
    "bpedataset = BPEDataset('dataset/dailymail/onebigfile_train.npy',\n",
    "                        'dataset/dailymail/onebigfile_validation.npy',\n",
    "                        max_len1,\n",
    "                        max_len2,\n",
    "                        batch_size = 32,\n",
    "                        shuffle = True)\n",
    "train, validation, train_loader, validation_loader = bpedataset.reset()\n"
   ]
  },
  {
   "cell_type": "code",
   "execution_count": 8,
   "id": "0ca4a5ba",
   "metadata": {},
   "outputs": [
    {
     "data": {
      "text/plain": [
       "12597"
      ]
     },
     "execution_count": 8,
     "metadata": {},
     "output_type": "execute_result"
    }
   ],
   "source": [
    "len(validation)"
   ]
  },
  {
   "cell_type": "code",
   "execution_count": 9,
   "id": "25ec6d58",
   "metadata": {},
   "outputs": [],
   "source": [
    "model = TransformerLM(vocab_size = max_vocab,\n",
    "                      max_len1 = max_len1,\n",
    "                      max_len2 = max_len2,\n",
    "                      dmodel = 256,\n",
    "                      dk = 64,\n",
    "                      dhead = 4,\n",
    "                      dff = 512,\n",
    "                      p = 0.1,\n",
    "                      nlayer = 3,\n",
    "                      kernel_type = 'vanilla')"
   ]
  },
  {
   "cell_type": "code",
   "execution_count": 13,
   "id": "b48876b6",
   "metadata": {},
   "outputs": [],
   "source": [
    "tmp = torch.load('runs/run_mixed_lm/ckpt_dir/_2022-12-27_01-02-56/model_49.pickle',\n",
    "                 map_location=torch.device('cpu'))"
   ]
  },
  {
   "cell_type": "code",
   "execution_count": 15,
   "id": "459d7ab8",
   "metadata": {},
   "outputs": [
    {
     "data": {
      "text/plain": [
       "<All keys matched successfully>"
      ]
     },
     "execution_count": 15,
     "metadata": {},
     "output_type": "execute_result"
    }
   ],
   "source": [
    "model.load_state_dict(tmp['model'])"
   ]
  },
  {
   "cell_type": "code",
   "execution_count": 16,
   "id": "be864bbd",
   "metadata": {},
   "outputs": [
    {
     "data": {
      "text/plain": [
       "TransformerLM(\n",
       "  (encoder_layers): ModuleList(\n",
       "    (0): Encoder(\n",
       "      (dropout): Dropout(p=0.1, inplace=False)\n",
       "      (attention): F_Attention()\n",
       "      (ff): FeedForward(\n",
       "        (fc1): Linear(in_features=256, out_features=512, bias=True)\n",
       "        (fc2): Linear(in_features=512, out_features=256, bias=True)\n",
       "        (activation): ReLU()\n",
       "      )\n",
       "      (norm1): LayerNorm((256,), eps=1e-05, elementwise_affine=True)\n",
       "      (norm2): LayerNorm((256,), eps=1e-05, elementwise_affine=True)\n",
       "    )\n",
       "    (1): Encoder(\n",
       "      (dropout): Dropout(p=0.1, inplace=False)\n",
       "      (attention): F_Attention()\n",
       "      (ff): FeedForward(\n",
       "        (fc1): Linear(in_features=256, out_features=512, bias=True)\n",
       "        (fc2): Linear(in_features=512, out_features=256, bias=True)\n",
       "        (activation): ReLU()\n",
       "      )\n",
       "      (norm1): LayerNorm((256,), eps=1e-05, elementwise_affine=True)\n",
       "      (norm2): LayerNorm((256,), eps=1e-05, elementwise_affine=True)\n",
       "    )\n",
       "    (2): Encoder(\n",
       "      (dropout): Dropout(p=0.1, inplace=False)\n",
       "      (attention): F_Attention()\n",
       "      (ff): FeedForward(\n",
       "        (fc1): Linear(in_features=256, out_features=512, bias=True)\n",
       "        (fc2): Linear(in_features=512, out_features=256, bias=True)\n",
       "        (activation): ReLU()\n",
       "      )\n",
       "      (norm1): LayerNorm((256,), eps=1e-05, elementwise_affine=True)\n",
       "      (norm2): LayerNorm((256,), eps=1e-05, elementwise_affine=True)\n",
       "    )\n",
       "  )\n",
       "  (decoder_layers): ModuleList(\n",
       "    (0): Decoder(\n",
       "      (dropout): Dropout(p=0.1, inplace=False)\n",
       "      (cross_attention): P_Attention(\n",
       "        (WQ): Linear(in_features=256, out_features=256, bias=True)\n",
       "        (WK): Linear(in_features=256, out_features=256, bias=True)\n",
       "        (WV): Linear(in_features=256, out_features=256, bias=True)\n",
       "        (WO): Linear(in_features=256, out_features=256, bias=True)\n",
       "        (softmax): Softmax(dim=-1)\n",
       "      )\n",
       "      (self_attention): Attention(\n",
       "        (WQ): Linear(in_features=256, out_features=256, bias=True)\n",
       "        (WK): Linear(in_features=256, out_features=256, bias=True)\n",
       "        (WV): Linear(in_features=256, out_features=256, bias=True)\n",
       "        (WO): Linear(in_features=256, out_features=256, bias=True)\n",
       "        (softmax): Softmax(dim=-1)\n",
       "      )\n",
       "      (ff): FeedForward(\n",
       "        (fc1): Linear(in_features=256, out_features=512, bias=True)\n",
       "        (fc2): Linear(in_features=512, out_features=256, bias=True)\n",
       "        (activation): ReLU()\n",
       "      )\n",
       "      (norm1): LayerNorm((256,), eps=1e-05, elementwise_affine=True)\n",
       "      (norm2): LayerNorm((256,), eps=1e-05, elementwise_affine=True)\n",
       "      (norm3): LayerNorm((256,), eps=1e-05, elementwise_affine=True)\n",
       "    )\n",
       "    (1): Decoder(\n",
       "      (dropout): Dropout(p=0.1, inplace=False)\n",
       "      (cross_attention): P_Attention(\n",
       "        (WQ): Linear(in_features=256, out_features=256, bias=True)\n",
       "        (WO): Linear(in_features=256, out_features=256, bias=True)\n",
       "        (softmax): Softmax(dim=-1)\n",
       "      )\n",
       "      (self_attention): Attention(\n",
       "        (WQ): Linear(in_features=256, out_features=256, bias=True)\n",
       "        (WK): Linear(in_features=256, out_features=256, bias=True)\n",
       "        (WV): Linear(in_features=256, out_features=256, bias=True)\n",
       "        (WO): Linear(in_features=256, out_features=256, bias=True)\n",
       "        (softmax): Softmax(dim=-1)\n",
       "      )\n",
       "      (ff): FeedForward(\n",
       "        (fc1): Linear(in_features=256, out_features=512, bias=True)\n",
       "        (fc2): Linear(in_features=512, out_features=256, bias=True)\n",
       "        (activation): ReLU()\n",
       "      )\n",
       "      (norm1): LayerNorm((256,), eps=1e-05, elementwise_affine=True)\n",
       "      (norm2): LayerNorm((256,), eps=1e-05, elementwise_affine=True)\n",
       "      (norm3): LayerNorm((256,), eps=1e-05, elementwise_affine=True)\n",
       "    )\n",
       "    (2): Decoder(\n",
       "      (dropout): Dropout(p=0.1, inplace=False)\n",
       "      (cross_attention): P_Attention(\n",
       "        (WQ): Linear(in_features=256, out_features=256, bias=True)\n",
       "        (WO): Linear(in_features=256, out_features=256, bias=True)\n",
       "        (softmax): Softmax(dim=-1)\n",
       "      )\n",
       "      (self_attention): Attention(\n",
       "        (WQ): Linear(in_features=256, out_features=256, bias=True)\n",
       "        (WK): Linear(in_features=256, out_features=256, bias=True)\n",
       "        (WV): Linear(in_features=256, out_features=256, bias=True)\n",
       "        (WO): Linear(in_features=256, out_features=256, bias=True)\n",
       "        (softmax): Softmax(dim=-1)\n",
       "      )\n",
       "      (ff): FeedForward(\n",
       "        (fc1): Linear(in_features=256, out_features=512, bias=True)\n",
       "        (fc2): Linear(in_features=512, out_features=256, bias=True)\n",
       "        (activation): ReLU()\n",
       "      )\n",
       "      (norm1): LayerNorm((256,), eps=1e-05, elementwise_affine=True)\n",
       "      (norm2): LayerNorm((256,), eps=1e-05, elementwise_affine=True)\n",
       "      (norm3): LayerNorm((256,), eps=1e-05, elementwise_affine=True)\n",
       "    )\n",
       "  )\n",
       "  (dropout): Dropout(p=0.1, inplace=False)\n",
       "  (embedding): Embedding(10000, 256)\n",
       "  (pe1): PositionalEncoding()\n",
       "  (pe2): PositionalEncoding()\n",
       "  (linear): Linear(in_features=256, out_features=10000, bias=False)\n",
       ")"
      ]
     },
     "execution_count": 16,
     "metadata": {},
     "output_type": "execute_result"
    }
   ],
   "source": [
    "model.eval()"
   ]
  },
  {
   "cell_type": "code",
   "execution_count": 21,
   "id": "b7123a16",
   "metadata": {},
   "outputs": [],
   "source": [
    "from tqdm import tqdm"
   ]
  },
  {
   "cell_type": "code",
   "execution_count": 26,
   "id": "108479eb",
   "metadata": {},
   "outputs": [
    {
     "name": "stderr",
     "output_type": "stream",
     "text": [
      "  0%|▎                                                                                                                                                 | 1/393 [00:01<08:54,  1.36s/it]"
     ]
    },
    {
     "name": "stdout",
     "output_type": "stream",
     "text": [
      "prince royal posed who ,posed bombed new selfie taken new zealand rugby sevens coach sir gordon tietjens ,sport manawatu chief executive trevor shailer and massey university professor emeritus gary hermansson .the trio were watching the 800m women 's swimming style in glasgow on <eos>this ,england women ckey team on their beat england games games .<eos>ed hands smilfor the ,who amed the hockeyroos .smile glasgow aftermath of the win win .<eos> the royal ,29 ,photobombed a selfie between new zealand rugby sevens coach sir gordon tietjens ,sport manawatu chief executive trevor shailer and massey university professor emeritus gary hermansson .the men were watching the 800m women 's freestyle in glasgow .earlier harry met australian hockey team after they beat the english team .smiled and posed with players - nicknamed the hockeyroos - in the wake of their 3-0 victory .<eos>\n",
      "viktoras bruzas ,38 ,is with murder of patrick ketgillian kettyle ,bruwere 38 surrey surrey ,were in the  wounds in their in surrey tcham .week .bruzas ,38 surrey ton-on-thames ,appeared at ,guildford crown court today brucharges for the but was arrested anded in custody .he bailey ..<eos> viktoras bruzas ,38 ,charged with murders of patrick and gillian kettyle .pair ,in their 50s ,died from stab wounds at home in fetcham last thursday .bruzas ,from walton-on-thames ,appeared today at guildford crown court .no plea entered - he was remanded in custody until old bailey appearance .<eos>\n",
      "paul smith was left by the champion arthur abraham in the .the super-middleweight pushed defending a disgusted 'by the alous judging .paul was refused the the rematch after saying he raham to likely likely to chase .fight .the stieglitz or felix stur .<eos> paul smith was defeated by world champion arthur abraham in germany .english super middleweight left feeling 'disgusted 'by scandalous judging .smith immediately asked for a rematch ,but abraham is more likely to face the winner between robert stieglitz or felix sturm .<eos>\n",
      "travellers this year ,the has the for tch is return popular vered ed to es from the class tickets london of ,from london to newark ,available outside cheaper 74 .the a the ,20 people mt ,the airline was united be a the .to a .<eos> earlier this afternoon ,united .com glitch offered hugely discounted fares .first-class ,round trip flights from london to newark were just us $74 .as of 16 :00 gmt ,the website seems to be once again operating as normal .<eos>\n",
      "maddox perales ,from ,from from mogenetic rare form of facial paralysis that he been his in to raise money for a .facial facial muscles .he veteran has says his was born by a just later birth .<eos>is he says he he the doctor 'his ebius syndrome ,is to make .<eos>he say to raise $100 ,000 to him dox developing be facial animation surgery .<eos>are that is not to make friends ,he is a led make school .<eos> maddox perales ,five ,suffers from an extremely rare form of facial paralysis .has left him unable to express happiness or anger using his facial muscles .military veteran father says son was dropped by doctors seconds after birth .this ,he claims ,left the boy with moebius syndrome and unable to smile .now parents want to raise $100 ,000 for maddox to have reanimation surgery .they worry he may struggle to make friends when it is time to start school .<eos>\n",
      "watson ther watson won the round to beat for the match in the set watson watson georges won back brawin the set before 3 against beat a decider .watson was face the 9th seed camila giorgi in the set .<eos> heather watson took first set and served for the match in second .but julia georges fought back to take second set 7-5 and force a decider .watson will face 29th seed camila giorgi in second round .<eos>\n",
      "bill frenier and 52 ,and lizbeth espejo frenier ,32 ,decided the the ocean .the by two guests and fort bagear underneath the the minutes to the attended by a scufor q cla<eos>experienced divers had watch the the shore to <eos> bill frenier ,52 ,and lizbeth espejo frenier ,32 ,wed in atlantic ocean .watched by 20 guests in scuba gear .took 15 minutes and was followed by a beach bbq .less experienced divers could watch from the shore .<eos>\n",
      "two french men arrested been arrested after fight fight at old street station .the short clip ,standing up of segments from vine videos .<eos>two carriheld up for the situation was calmed down .<eos> five french men have been arrested after the fight at old street station .a short clip is made up of segments of vine videos .the tube was held up while the situation was calmed down .<eos>\n",
      "the 31-year-old male discovered by woods el allerton ,leeds .shortly morning .the are investigating the cause as murder and we conducfor the .<eos> the 31-year-old was found in chapel allerton ,leeds ,yesterday morning .police are treating the death as murder and are searching for witnesses .<eos>\n",
      "matthew deane and s family were harasmented by they first into their akley ,utah .they four months ,were throw up lights and the paper ,they were be up rolls torn turned  on windows windows in hours night .<eos>happened so bad ,15-year-old daughter decided her school in <eos>man later of the culprits were caught by they of pressing them cul.but asked them to donate the instead .<eos>they have received than 1 ,000 after campaign campaign spread on social media and <eos> matthew deane 's family were tormented when they moved to oakley ,utah .for four months teenagers would cover the house in toilet paper .they would break their furniture and bang on their windows late at night .problem got so bad their 15-year-old daughter left her school .one night some of the culprits were caught and instead of charging the group ,they asked them to donate rolls instead .now they have more than 1 ,000 after the campaign spread on social media .<eos>\n",
      "harrison sherman was rescued in three days trapped the atlantic of in 12 food or water .he okene ,not the after the body bodies .the day water .<eos>vers were him dead the air pocket bble of the four-door metres underwater .<eos>shows the mr okene was aches out a and touches one vers '<eos> fisherman was trapped for two days in the pitch dark with no food or water .harrison okene could hear fish eating his dead colleagues in sunken ship .divers found him in an air bubble in a cabin 30 metres underwater .video shows moment mr okene reaches out hand and touches diver .<eos>\n",
      "the extenwas to 40 back of yaturkish in removed lished after morning .the sion was removed without the small cafe in wealdstone ,north london .the was be permission to 40 smowho was illegally to the hours of the morning .<eos> wooden structure added to the rear of a cafe was demolished this morning .extension was built behind a turkish cafe in wealdstone ,north london .it could hold up to 40 people and was open into early hours of the morning .<eos>\n",
      "chansources say chanwere treating the incident as a tragic tragic accident '<eos>telle ,ginson ,24 ,fell hospital critical condition in hospital .argument ining multiple head and leg fractures .<eos>kimberley ,44 ,was multiple knife and hospital kima her cut shed in front attack .1999 of her daughter during <eos>woman the barginson ,s throat family were in hotels hospital tumour in 1999 .<eos> police sources say they are treating the incident as a 'tragic accident 'chantelle serginson ,24 ,in a serious condition in hospital after sustaining multiple head and leg fractures .mother kimberley ,44 ,suffered horrific injuries in 2006 after having throat slashed in knife attack in front of her daughter .one of mrs serginson 's other daughters died from a brain tumour in 1999 .<eos>\n",
      "mensch 'from ,has s a irain fashion blog and quito new york six she says es men to 'the heels 'though heels want un.'men men man wants to see you swing it '<eos>said ates menises a 'you your man 'not look men are 't look look to wear ''<eos>ises a 'an 's 's ious 'st '<eos>'she want 'the ''the face of 'the ''.herself ks up '' '.<eos> mensch ,41 ,'developed an interest in fashion 'since moving to new york .she advises you should wear high heels even though they are painful ,because 'your man wants to see you swing it 'she advocates exercising :'accepting your body does not mean you don 't also try to change it 'praises kim kardashian 's 'glorious booty 'and says men were 'fed up to the back teeth with a constant diet of stick-thin ,sexless models '<eos>\n",
      "hector morejon ,shot by a long beach ,california ,in officer .the ,thought the 19-year-old was pointing a gun at him during a trespassing and vandalism incident .the mother lucthe ,was to an in but heard was the ,in the ambulance .<eos> hector morejon was shot by a long beach ,california ,police officer .officer allegedly thought the 19-year-old was pointing a gun at him during a trespassing and vandalism incident .his mother heard shots and ran to scene ,then she saw her son in an ambulance .<eos>\n",
      "poll by new %000 voters were a the on an leader .but pictures are disgusting of nick for an ant reaction '<eos>farage ,well with he led ed said ed for he have vote for a .find him disgusting riguing '<eos> poll of 1 ,000 voters makes unhappy reading for party leaders .shown politicians 'photograph and asked for instant reaction .nigel farage did well but pollster wonders if people will vote for someone they find 'intriguing '<eos>\n",
      "miroslav balog ,32 ,was shoebury ,essex 9to 04 for fines fines .he he heard a pay ivfines 59 fine he log agreed the of day day on south.he was handed to stay der around until 5pm at april for 8.waived .<eos>ers association return end ,he is ''deterte blanche 'for him to carry on ending .<eos> miroslav balog ,32 ,from shoebury ,owed court 904 in outstanding fines .but magistrates offered to waive 859 if balog spent rest of the day at court .he was allowed to wander grounds until 5pm in return for fine being waived .traders in southend said it was a 'carte blanche 'for him to keep offending .<eos>\n",
      "the mcdonough bought cottage cottage 11 years ago for his granddaughters .the he is to sell the because grandgranddaughters sophie now selling up .<eos>cottage dy house is an upstairs bedroom with has downroom .<eos>cottage is even be connected to mains electricity and water .<eos> brian mcdonough bought the cottage 11 years ago for his granddaughters .but he decided to sell it because his granddaughters are now grown up .the wendy house features an upstairs bedroom and a sitting room .the cottage can even be connected to mains electricity and water .<eos>\n",
      "ashley carpenter ,18 ,and david kohler -carpenter ,14 ,were pronounced dead at the scene .police father john sister girlfriend ,pronounced ally wounded .the say they children were taken of 414along their been gunto a the attack .<eos> ashley carpenter ,18 ,and david kohler-carpenter ,14 ,were pronounced dead at the scene .their father and his girlfriend were critically wounded .police believe the teens were victims of a robbery and had several leads as to the suspects .<eos>\n",
      "the melbourne taxi  driver been crushed to death in a hit and run while exchanging details with a minor collision .the driver year old man struck by a mitsubishi colt and cruexcwas at the scene .the 6year old man fled the aspscene on the woman ,airsay wing and snidriver cerdogs ,conducted shortly <eos>purs driver has has has on the cab.<eos> a melbourne cabbie has been crushed to death in a hit and run whilst exchanging details over a minor collision .the 65 year old was hit by a mitsubishi colt ,before he died at the scene .a 46 year old man fled from the scene .a search including police airwing and the canine squad was conducted .victoria 's death toll now stands at 167 .<eos>\n",
      "danmunich defender says been featured for brazil since the thrcup .the te has humiliof brazil brazil 1 by ated by germany in the world finals this the 30-year-old defender currently for germany since is to stay in he retires .<eos> bayern munich defender has not played for brazil since the world cup .dante was part of the 7-1 humiliation by germany in the semi-finals .the 30-year-old is settled in germany and wants to stay when he retires .<eos>\n",
      "slobeat e up lithuania in 0 at wembley on qualitop of group e .slovenia 'ashing group utes  san marino 6-0 at qualiscored the half .slobeat the ably in in scored the the pressure .points venia .<eos> england eased past lithuania 4-0 at wembley to stay top of group e .slovenia thrashed minnows san marino 6-0 to be in second place .switzerland won comfortably 3-0 and kept up the pressure on slovenia .<eos>\n",
      "germany was elled sted s by four stars above ling out on hours hours of the .germany idas 'picture of new kit with four stars .bad'ge .germany german are ated their 's four world cup triumph umphs .<eos>mannschaft to their cup triumph germany brom beat the 8.with 8 .germany .<eos>beat argentina 1-0 extrathe time in brazil cup triumph .the acana stadium <eos>time germany has be the kit will against a on argentina in dusseldorf ..3 .<eos> shirt emblazoned with four stars sells out within 12 hours of release .adidas tweet picture of new shirt with four stars above germany badge .the stars commemorate germany 's four world cup triumphs .die mannschaft won world cup as west germany in 1954 ,1974 and 1990 .germany beat argentina 1-0 after extra time in world cup final at maracana .first time germany will wear new kit is in friendly with argentina in dusseldorf on september 3 .<eos>\n",
      "one tested tested voice and data connections in london .they travelled back and forth on ten ten most popular lines .they were found to be plagued by poor voice and data connections .one in seven internet tasks were dropped during testing .<eos>they in seven calls were found found to fail due to networks still using 2g .<eos>,worst station to get a connection was found to be st pancras .<eos>,third said call voice ,people that is 'not the average service call '2e ong  .fail trains and es .were more ally likely .way .<eos> engineers have tested voice and data connections in london .they travelled back and forth on the ten most popular lines .all were found to be plagued by poor voice and data connections .one in three internet tasks were dropped during testing .and one in seven calls were also found to fail due to networks still using 2g .meanwhile the worst station to get a connection was found to be st pancras .however a spokesman for the station tells mailonline it was 'only an issue for people using thameslink trains from two platforms that are essentially below the surface '<eos>\n",
      "andre johnson ,41 ,was pped off his penpenis ,his apartment hollywood apartment on his pm .april 16 .jumped jumped from the second floor .he was who goes by stage stage name christ bearer ,said told high on pcp .but for pbalcon.he '.but the time of he said said he was simply weeand reading from a .<eos> andre johnson ,40 ,chopped off his own penis inside a north hollywood apartment about 1am on april 16 and then jumped from the second floor .johnson ,who goes by the stage name christ bearer ,was reportedly high on pcp - known on the street as angel dust - at the time .he later claimed he was smoking marijuana and suffering from depression .<eos>\n",
      "captain taken mark the tenth anniversary of the liner mary 2 off the kevin oprey stood on ferred ing on the ship bous bow .the queen .the james morgan said safety conditions were pictures pictures of strateto to  photographs to mark the tenth anniversary of the queen mary 2 .captain kevin oprey stood precariously on the bulbous bow of the ship .photographer james morgan said the photos took 'months of planning '<eos>\n",
      "amber dinney morgan ,25 ,was heading north on the i-805 in san diego ,around am on friday when when car started booked running the scene ing in san car and driving fell booked at the patrol arrived at but when woke she the then her foot off the brake .when car started to roll ,but the emergency ran arrested to close the the turns it from <eos>the video ,the car ,allegedly found a bottle of liquor and <eos> amber mckinney morgan ,25 ,was heading north on the i-805 in san diego at 1am on friday .her car was spotted at a standstill in the road while she was asleep .highway patrol arrived ,but she woke up and took her foot off the brake .the car started to roll ,so an officer was forced to break in and stop it .during a search of the vehicle they allegedly found a bottle of liquor .<eos>\n",
      "queen queen ,in queen coat she the in the sandringham estate .she majesty tried wearing up in in a dusky pink coat and hat as black ves .she the was 't help but shiver as she left royal royal flprince philip .<eos>queen were met by her wishers as they arrived the service .<eos>estate were expected to return from buckingham next private to week .<eos> the queen felt the cold while attending church on the sandringham estate .her majesty was wrapped up warm in a dusky pink coat and hat and gloves .but she couldn 't help but shiver as she left her car with prince philip .the couple were greeted by well-wishers as they attended sunday service .royal pair are expected to return to london from norfolk next week .<eos>\n",
      "edsterfield scored to to fifth in the league one table with the oin doyle scored his 24th goal of the season to the .the k dons were a golden to make top after being with scunthorpe .<eos> chesterfield move up to fifth in the league one table .eoin doyle scored his 24th goal of the season during victory .mk dons missed a chance to go top after draw at scunthorpe .<eos>\n",
      "copscore encourages people to submit 'officer performance reviews 'and can register to the the the site and give edback can be anonymous if the ator say the service to 'help help cops do a better job of community police ing by <eos>are had the may prompnegative only posts views from <eos> copscore encourages citizens to submit 'officer performance reviews 'anyone can register to post on the site and feedback can be anonymous .creators say its aim is to 'help cops do a better job of community policing 'critics have said it will only encourage negative reviews .<eos>\n",
      "biocan by can an for phone or ipad to it sensetooth for control ate via a or it sensors to iphone iphone or ipad to control bird bird .following its movements exactly .the  bird controlled simply by moving your phone or ipad .uses bluetooth to communicate with phone .uses sensors is the iphone or ipad to control the bird ,following its movements exactly .<eos>\n",
      "holly wu ,she was fired dled and massaitioned for sex ,fonpornography by shown ked her bottom bottom .co-workers workers .she weeks after she a sexual to she said fired without she  holly wu says she was fondled ,propositioned for sex ,shown pornography and poked in her bottom by male co-workers .three weeks after filed a complaint ,she was fired .<eos>\n"
     ]
    },
    {
     "name": "stderr",
     "output_type": "stream",
     "text": [
      "  0%|▎                                                                                                                                                 | 1/393 [00:02<17:10,  2.63s/it]\n"
     ]
    },
    {
     "ename": "KeyboardInterrupt",
     "evalue": "",
     "output_type": "error",
     "traceback": [
      "\u001b[0;31m---------------------------------------------------------------------------\u001b[0m",
      "\u001b[0;31mKeyboardInterrupt\u001b[0m                         Traceback (most recent call last)",
      "Cell \u001b[0;32mIn [26], line 9\u001b[0m\n\u001b[1;32m      7\u001b[0m \u001b[38;5;28;01mfor\u001b[39;00m x, y, w \u001b[38;5;129;01min\u001b[39;00m tqdm(validation_loader):\n\u001b[1;32m      8\u001b[0m     z \u001b[38;5;241m=\u001b[39m y[:, \u001b[38;5;241m1\u001b[39m:]\n\u001b[0;32m----> 9\u001b[0m     output \u001b[38;5;241m=\u001b[39m model(x, y[:,:\u001b[38;5;241m-\u001b[39m\u001b[38;5;241m1\u001b[39m])                \n\u001b[1;32m     10\u001b[0m     output \u001b[38;5;241m=\u001b[39m torch\u001b[38;5;241m.\u001b[39margmax(output, dim\u001b[38;5;241m=\u001b[39m\u001b[38;5;241m-\u001b[39m\u001b[38;5;241m1\u001b[39m)\n\u001b[1;32m     12\u001b[0m     \u001b[38;5;28;01mfor\u001b[39;00m i \u001b[38;5;129;01min\u001b[39;00m \u001b[38;5;28mrange\u001b[39m(output\u001b[38;5;241m.\u001b[39mshape[\u001b[38;5;241m0\u001b[39m]):\n",
      "File \u001b[0;32m/opt/anaconda3/envs/cs2020/lib/python3.9/site-packages/torch/nn/modules/module.py:1130\u001b[0m, in \u001b[0;36mModule._call_impl\u001b[0;34m(self, *input, **kwargs)\u001b[0m\n\u001b[1;32m   1126\u001b[0m \u001b[38;5;66;03m# If we don't have any hooks, we want to skip the rest of the logic in\u001b[39;00m\n\u001b[1;32m   1127\u001b[0m \u001b[38;5;66;03m# this function, and just call forward.\u001b[39;00m\n\u001b[1;32m   1128\u001b[0m \u001b[38;5;28;01mif\u001b[39;00m \u001b[38;5;129;01mnot\u001b[39;00m (\u001b[38;5;28mself\u001b[39m\u001b[38;5;241m.\u001b[39m_backward_hooks \u001b[38;5;129;01mor\u001b[39;00m \u001b[38;5;28mself\u001b[39m\u001b[38;5;241m.\u001b[39m_forward_hooks \u001b[38;5;129;01mor\u001b[39;00m \u001b[38;5;28mself\u001b[39m\u001b[38;5;241m.\u001b[39m_forward_pre_hooks \u001b[38;5;129;01mor\u001b[39;00m _global_backward_hooks\n\u001b[1;32m   1129\u001b[0m         \u001b[38;5;129;01mor\u001b[39;00m _global_forward_hooks \u001b[38;5;129;01mor\u001b[39;00m _global_forward_pre_hooks):\n\u001b[0;32m-> 1130\u001b[0m     \u001b[38;5;28;01mreturn\u001b[39;00m \u001b[43mforward_call\u001b[49m\u001b[43m(\u001b[49m\u001b[38;5;241;43m*\u001b[39;49m\u001b[38;5;28;43minput\u001b[39;49m\u001b[43m,\u001b[49m\u001b[43m \u001b[49m\u001b[38;5;241;43m*\u001b[39;49m\u001b[38;5;241;43m*\u001b[39;49m\u001b[43mkwargs\u001b[49m\u001b[43m)\u001b[49m\n\u001b[1;32m   1131\u001b[0m \u001b[38;5;66;03m# Do not call functions when jit is used\u001b[39;00m\n\u001b[1;32m   1132\u001b[0m full_backward_hooks, non_full_backward_hooks \u001b[38;5;241m=\u001b[39m [], []\n",
      "File \u001b[0;32m~/Documents/jiqixuexiluodi_2021/nlp.dir/mixed_transformer_lm.py:148\u001b[0m, in \u001b[0;36mTransformerLM.forward\u001b[0;34m(self, x, y)\u001b[0m\n\u001b[1;32m    143\u001b[0m decoder_output \u001b[38;5;241m=\u001b[39m y\n\u001b[1;32m    144\u001b[0m \u001b[38;5;66;03m#t2 = datetime.now()\u001b[39;00m\n\u001b[1;32m    145\u001b[0m \u001b[38;5;66;03m#print(f'decoder rest {get_time(t1,t2)}')\u001b[39;00m\n\u001b[1;32m    146\u001b[0m \n\u001b[1;32m    147\u001b[0m \u001b[38;5;66;03m#output = x @ self.W\u001b[39;00m\n\u001b[0;32m--> 148\u001b[0m output \u001b[38;5;241m=\u001b[39m \u001b[38;5;28;43mself\u001b[39;49m\u001b[38;5;241;43m.\u001b[39;49m\u001b[43mlinear\u001b[49m\u001b[43m(\u001b[49m\u001b[43mdecoder_output\u001b[49m\u001b[43m)\u001b[49m\u001b[43m \u001b[49m\u001b[38;5;241;43m*\u001b[39;49m\u001b[43m \u001b[49m\u001b[38;5;28;43mself\u001b[39;49m\u001b[38;5;241;43m.\u001b[39;49m\u001b[43mlinear_fac\u001b[49m  \u001b[38;5;66;03m# N * L * vocab_size\u001b[39;00m\n\u001b[1;32m    149\u001b[0m \u001b[38;5;28;01mreturn\u001b[39;00m output\n",
      "\u001b[0;31mKeyboardInterrupt\u001b[0m: "
     ]
    }
   ],
   "source": [
    "with torch.no_grad():\n",
    "\n",
    "    output_all = []\n",
    "    z_all = []\n",
    "    w_all = []\n",
    "\n",
    "    for x, y, w in tqdm(validation_loader):\n",
    "        z = y[:, 1:]\n",
    "        output = model(x, y[:,:-1])                \n",
    "        output = torch.argmax(output, dim=-1)\n",
    "\n",
    "        for i in range(output.shape[0]):\n",
    "            preds = tokenizer.detokenize(output[i][w[i]])\n",
    "            target = tokenizer.detokenize(z[i][w[i]])\n",
    "            print(preds, target)"
   ]
  },
  {
   "cell_type": "code",
   "execution_count": 68,
   "id": "b8dfc02b",
   "metadata": {},
   "outputs": [],
   "source": [
    "x, y, w = next(iter(validation_loader))"
   ]
  },
  {
   "cell_type": "code",
   "execution_count": 72,
   "id": "ab8ffaec",
   "metadata": {},
   "outputs": [
    {
     "data": {
      "text/plain": [
       "tensor([[[-12.5802,  -0.2580,   4.2409,  ...,  -7.9273,  -9.6861,  -2.2647],\n",
       "         [-14.5581,  -0.2826,   4.7183,  ..., -10.6025,  -8.1970,  -2.4363],\n",
       "         [-13.4424,  -0.7465,   2.5710,  ...,  -6.8200,  -6.8260,   1.4469],\n",
       "         ...,\n",
       "         [-14.1142,  -0.5491,   2.9959,  ...,  -9.4087,  -9.3971,  -0.9885],\n",
       "         [-12.5914,   0.6637,  12.7072,  ...,  -8.6436,  -9.0045,  -2.6813],\n",
       "         [-12.9826,   1.1116,   6.4896,  ..., -10.1624,  -7.5825,  -1.0715]]],\n",
       "       grad_fn=<MulBackward0>)"
      ]
     },
     "execution_count": 72,
     "metadata": {},
     "output_type": "execute_result"
    }
   ],
   "source": [
    "model(x[0:1,:], y[0:1,:-1])"
   ]
  },
  {
   "cell_type": "code",
   "execution_count": 27,
   "id": "57f04a19",
   "metadata": {},
   "outputs": [
    {
     "data": {
      "text/plain": [
       "{'rouge1_fmeasure': tensor(0.5806),\n",
       " 'rouge1_precision': tensor(0.5625),\n",
       " 'rouge1_recall': tensor(0.6000),\n",
       " 'rouge2_fmeasure': tensor(0.2333),\n",
       " 'rouge2_precision': tensor(0.2258),\n",
       " 'rouge2_recall': tensor(0.2414)}"
      ]
     },
     "execution_count": 27,
     "metadata": {},
     "output_type": "execute_result"
    }
   ],
   "source": [
    "rouge_score(preds, target, rouge_keys=('rouge1','rouge2'))"
   ]
  },
  {
   "cell_type": "code",
   "execution_count": 137,
   "id": "4e7ef6cd",
   "metadata": {},
   "outputs": [],
   "source": [
    "import heapq\n",
    "class BeamSearch():\n",
    "    def __init__(self, topk, x_len, max_len, model, tokenizer, max_queue=2000):\n",
    "        self.topk = topk\n",
    "        self.x_len = x_len\n",
    "        self.max_len = max_len\n",
    "        self.max_queue = max_queue\n",
    "        self.model = model.eval().cpu()\n",
    "        self.bos_idx = tokenizer.bos_idx\n",
    "        self.eos_idx = tokenizer.eos_idx\n",
    "        self.pad_idx = tokenizer.pad_idx\n",
    "    \n",
    "    def _nexttoken(self, x, y):\n",
    "        '''\n",
    "          x, y are 2D tensor 1*L including the token idx\n",
    "        '''\n",
    "        tmp = self.model(x, y)[0,-1,:]\n",
    "        tmp = torch.topk(tmp, self.topk, dim=-1)   # use log(probability)\n",
    "        \n",
    "        pp = tmp.values.detach().numpy()\n",
    "        pp = np.log(pp)\n",
    "        idx = tmp.indices.detach().numpy()\n",
    "        return pp, idx\n",
    "    \n",
    "    def __call__(self, x):\n",
    "        '''\n",
    "          input x is a 1D list that has the idx of the story\n",
    "          which is normally from MyDataset\n",
    "        '''\n",
    "        x = torch.tensor(x.astype(np.int32))[None, :]\n",
    "        N, L = x.shape\n",
    "        if L < self.x_len:\n",
    "            pad = torch.zeros(N, self.x_len-L, dtype=x.dtype) + self.pad_idx\n",
    "            x = torch.cat([x, pad], dim=1)\n",
    "        \n",
    "        queue = []\n",
    "        output = []\n",
    "        y = torch.zeros(1, dtype=torch.long) + self.bos_idx\n",
    "        heapq.heappush(queue, (0, y))\n",
    "        \n",
    "        while queue:\n",
    "            p, y = heapq.heappop(queue)\n",
    "            p = -p\n",
    "            if y[-1] == self.eos_idx or y[-1] == self.pad_idx or len(y) > self.max_len:\n",
    "                output.append((p, y))\n",
    "                if len(output) == self.topk:\n",
    "                    break\n",
    "                continue\n",
    "            \n",
    "            for pp, idx in zip(*self._nexttoken(x, y[None, :])):\n",
    "                y_new = torch.concat([y, torch.tensor([idx])])\n",
    "                heapq.heappush(queue, (-(p+pp), y_new))\n",
    "                if len(queue) > self.max_queue:\n",
    "                    break\n",
    "        \n",
    "        return output"
   ]
  },
  {
   "cell_type": "code",
   "execution_count": 138,
   "id": "d0c45ccb",
   "metadata": {},
   "outputs": [],
   "source": [
    "inference = BeamSearch(topk = 5, \n",
    "                       x_len = 1024,\n",
    "                       max_len = 128, \n",
    "                       model = model, \n",
    "                       tokenizer = tokenizer,\n",
    "                       max_queue = 20)"
   ]
  },
  {
   "cell_type": "code",
   "execution_count": 129,
   "id": "5d2ef929",
   "metadata": {},
   "outputs": [
    {
     "data": {
      "text/plain": [
       "(\"a transportation security administration agent who was fired in nashville after becoming obsessed with a coworker - following her ,taking videos and photos and breaking into her house five times - was jailed this week as a result of the stalking case .daniel boykin ,33 ,plead guilty to charges of unlawful photography ,aggravated burglary ,wiretapping ,unlawful telephone recording and two computer crimes .in apologizing for his actions in court thursday ,boykin admitted to repeatedly filming the woman inside a bathroom at nashville international airport and was subsequently sentenced to six months prison .at the time of his arrest last year ,boykin was found with 92 videos of the victim  29 taken from the airport bathroom  and 1 ,527 photographs .investigators found additional images taken inside the woman 's home of air vents and shelves in the bathroom ,which they believe suggested he intended to plant hidden cameras at some point .obsessed :daniel boykin ,33 ,a former tsa employee ,appeared in court in nashville on thursday as he was sentenced to six months prison for stalking a colleague .more than 90 videos and 1 ,500 photos of the victim were discovered on boykins phone and computer ,and he broke into her home five times .disturbed :boykin was sentenced thursday for unlawful photography ,aggravated burglary ,wiretapping ,unlawful telephone recording and two computer crimes .he will be under strict probation for five years once he leaves prison ,however will not be registered as a sex offender .he also took photos of her clothing and stole pictures from her electronic devices .the victim ,who has not been named ,came forward in may 2014 .she told authorities that boykin would watch her dog on the weekends .however when looking at some photos of the dog on his phone one day at work ,the woman discovered a cache of photos of herself .'i was sick to my stomach ,'she told the court ,according to wkrn .'i am sure i was as white as these walls .'so eventually i said i had a headache and had to go home .'boykin also took to the stand to say he was sorry .'i have abused and broken a trust that i can never repair ,and for that i am truly sorry ,'he told the court .the detective in the case ,andrew vallee ,said he as truly shocked during the investigation .arrest :police began investigating boykin on may 30 ,2014 ,after the u .s .attorney 's office forwarded a complaint filed by the victim .she came forward after observing videos of herself on boykin 's phone .he was arrest after a search warrant was served at his nashville apartment .'this was one of the worst cases i have seen in terms of invading somebody 's privacy in their most intimate moments and the most secure place ,her home ,'the detective told the tennessean .'my biggest disappointment in terms of justice was that under current law ,(boykin )doesn 't have to register as a sex offender .'because my main motivation for justice is reducing the possibility that he will ever do this again to anyone else .'on top of the six months in prison ,the sentence includes more than five years of probation with strict supervision and gps monitoring .the judge also emphasized that boykin should continue seeking mental health treatment .<pad><pad><pad><pad><pad><pad><pad><pad><pad><pad><pad><pad><pad><pad><pad><pad><pad><pad><pad><pad><pad><pad><pad><pad><pad><pad><pad><pad><pad><pad><pad><pad><pad><pad><pad><pad><pad><pad><pad><pad><pad><pad><pad><pad><pad><pad><pad><pad><pad><pad><pad><pad><pad><pad><pad><pad><pad><pad><pad><pad><pad><pad><pad><pad><pad><pad><pad><pad><pad><pad><pad><pad><pad><pad><pad><pad><pad><pad><pad><pad><pad><pad><pad><pad><pad><pad><pad><pad><pad><pad><pad><pad><pad><pad><pad><pad><pad><pad><pad><pad><pad><pad><pad><pad><pad><pad><pad><pad><pad><pad><pad><pad><pad><pad><pad><pad><pad><pad><pad><pad><pad><pad><pad><pad><pad><pad><pad><pad><pad><pad><pad><pad><pad><pad><pad><pad><pad><pad><pad><pad><pad><pad><pad><pad><pad><pad><pad><pad><pad><pad><pad><pad><pad><pad><pad><pad><pad><pad><pad><pad><pad><pad><pad><pad><pad><pad><pad><pad><pad><pad><pad><pad><pad><pad><pad><pad><pad><pad><pad><pad><pad><pad><pad><pad><pad><pad><pad><pad><pad><pad><pad><pad><pad><pad><pad><pad><pad><pad><pad><pad><pad><pad><pad><pad><pad><pad><pad><pad><pad><pad><pad><pad><pad><pad><pad><pad><pad><pad><pad><pad><pad><pad><pad><pad><pad><pad><pad><pad><pad><pad><pad><pad><pad><pad><pad><pad><pad><pad><pad><pad><pad><pad><pad><pad><pad><pad><pad><pad><pad><pad><pad><pad><pad><pad><pad><pad><pad><pad><pad><pad><pad><pad><pad><pad><pad><pad><pad><pad><pad><pad><pad><pad><pad><pad><pad><pad><pad><pad><pad><pad><pad><pad><pad><pad><pad><pad><pad><pad><pad><pad><pad><pad><pad><pad><pad><pad><pad><pad><pad><pad><pad><pad><pad><pad><pad><pad><pad><pad><pad><pad><pad><pad><pad><pad><pad><pad><pad><pad><pad><pad><pad><pad><pad>\",\n",
       " \"<bos>daniel boykin plead guilty to charges of unlawful photography ,aggravated burglary ,wiretapping and unlawful telephone recording .he became obsessed with a female colleague .she discovered he was stalking her after finding photos on boykin 's phone .he had 92 videos of the victim - 29 taken from the bathroom at nashville international airport - and 1 ,527 photos .also broke into her home five times and took photos of her clothes .told the court thursday he was 'truly sorry 'sentenced to six months prison followed by five years probation .<eos><pad>\")"
      ]
     },
     "execution_count": 129,
     "metadata": {},
     "output_type": "execute_result"
    }
   ],
   "source": [
    "tokenizer.detokenize(x[0]), tokenizer.detokenize(y[0])"
   ]
  },
  {
   "cell_type": "code",
   "execution_count": 130,
   "id": "3d60b4bb",
   "metadata": {},
   "outputs": [
    {
     "data": {
      "text/plain": [
       "\"daniel boykin ,ed guilty to charges of unlawful photography ,aggravated burglary ,wiretapping ,unlawful telephone recording and boywas obsessed with a coemployee ,boywas a was sentenced king case dog being a of boykin phone s phone and boywas to videos of the victim '29 taken from the airport and nashville international airport .but was ,527 photographs .boytook into her home five times and stole photos of her clothing .<eos>authorities victim he he was 'sick shocked '<eos>to six months prison for a the times prison for <eos>the \""
      ]
     },
     "execution_count": 130,
     "metadata": {},
     "output_type": "execute_result"
    }
   ],
   "source": [
    "tokenizer.detokenize(model(x[0:1,:], y[0:1,:-1]).argmax(dim=-1)[0])"
   ]
  },
  {
   "cell_type": "code",
   "execution_count": 131,
   "id": "d2e47f90",
   "metadata": {},
   "outputs": [
    {
     "data": {
      "text/plain": [
       "'<bos>daniel boykin plead'"
      ]
     },
     "execution_count": 131,
     "metadata": {},
     "output_type": "execute_result"
    }
   ],
   "source": [
    "tokenizer.detokenize(y[0,:5])"
   ]
  },
  {
   "cell_type": "code",
   "execution_count": 132,
   "id": "85cc074c",
   "metadata": {},
   "outputs": [
    {
     "data": {
      "text/plain": [
       "'daniel boykin ,ed '"
      ]
     },
     "execution_count": 132,
     "metadata": {},
     "output_type": "execute_result"
    }
   ],
   "source": [
    "tokenizer.detokenize(model(x[0:1,:], y[0:1,:5]).argmax(dim=-1)[0])"
   ]
  },
  {
   "cell_type": "code",
   "execution_count": 172,
   "id": "6649a8ee",
   "metadata": {},
   "outputs": [
    {
     "name": "stdout",
     "output_type": "stream",
     "text": [
      "story\n",
      "\n",
      "bolton fans were given their first taste of emile heskey in a wanderers shirt on monday evening as the veteran forward played an hour for their under 21 side .the 36-year-old managed 63 minutes in the 3-1 defeat by reading in the premier league cup before being replaced by jamie thomas .heskey has been training with the club since early december and is hopeful of securing a short-term deal with the championship side .emile heskey looks pained after missing a chance for bolton wanderers 'under 21 side on monday .heskey has been training with bolton since early december but this was his first game for the club .the former england international dribbles while being closed down by niall keown .the former england centre forward has been out of contract since leaving a-league side the newcastle jets at the end of their season and could not get the better of niall keown ,son of sportsmail columnist martin .however ,bolton manager neil lennon said on tuesday :'i was pleasantly surprised with what i saw of emile in the under 21s on monday evening .he was very impressive .'eidur gudjohnsen is also back at the club and the former barcelona man was full of praise for his new club-mate .he said :'he 's a physical presence and you can still see it .there 's not much changed in him .if he wants to play and if he 's hungry to play then i 'd love for him to be with us .'any bit of quality ,any bit of experience ,any bit of competition within the group is always helpful and whether it 's him or other players ,we want to find a healthy competition to get the best out of each other .'reading has been out of contract since leaving a-league side newcastle jets at the end of their season .heskey managed 63 minutes in the 3-1 defeat to reading in the premier league cup before being substituted .the 36-year-old is hoping to secure a short-term loan deal with the championship side .heskey 's first run-out for the club comes to an end after he is substituted for thomas in the 63rd minute .<pad><pad><pad><pad><pad><pad><pad><pad><pad><pad><pad><pad><pad><pad><pad><pad><pad><pad><pad><pad><pad><pad><pad><pad><pad><pad><pad><pad><pad><pad><pad><pad><pad><pad><pad><pad><pad><pad><pad><pad><pad><pad><pad><pad><pad><pad><pad><pad><pad><pad><pad><pad><pad><pad><pad><pad><pad><pad><pad><pad><pad><pad><pad><pad><pad><pad><pad><pad><pad><pad><pad><pad><pad><pad><pad><pad><pad><pad><pad><pad><pad><pad><pad><pad><pad><pad><pad><pad><pad><pad><pad><pad><pad><pad><pad><pad><pad><pad><pad><pad><pad><pad><pad><pad><pad><pad><pad><pad><pad><pad><pad><pad><pad><pad><pad><pad><pad><pad><pad><pad><pad><pad><pad><pad><pad><pad><pad><pad><pad><pad><pad><pad><pad><pad><pad><pad><pad><pad><pad><pad><pad><pad><pad><pad><pad><pad><pad><pad><pad><pad><pad><pad><pad><pad><pad><pad><pad><pad><pad><pad><pad><pad><pad><pad><pad><pad><pad><pad><pad><pad><pad><pad><pad><pad><pad><pad><pad><pad><pad><pad><pad><pad><pad><pad><pad><pad><pad><pad><pad><pad><pad><pad><pad><pad><pad><pad><pad><pad><pad><pad><pad><pad><pad><pad><pad><pad><pad><pad><pad><pad><pad><pad><pad><pad><pad><pad><pad><pad><pad><pad><pad><pad><pad><pad><pad><pad><pad><pad><pad><pad><pad><pad><pad><pad><pad><pad><pad><pad><pad><pad><pad><pad><pad><pad><pad><pad><pad><pad><pad><pad><pad><pad><pad><pad><pad><pad><pad><pad><pad><pad><pad><pad><pad><pad><pad><pad><pad><pad><pad><pad><pad><pad><pad><pad><pad><pad><pad><pad><pad><pad><pad><pad><pad><pad><pad><pad><pad><pad><pad><pad><pad><pad><pad><pad><pad><pad><pad><pad><pad><pad><pad><pad><pad><pad><pad><pad><pad><pad><pad><pad><pad><pad><pad><pad><pad><pad><pad><pad><pad><pad><pad><pad><pad><pad><pad><pad><pad><pad><pad><pad><pad><pad><pad><pad><pad><pad><pad><pad><pad><pad><pad><pad><pad><pad><pad><pad><pad><pad><pad><pad><pad><pad><pad><pad><pad><pad><pad><pad><pad><pad><pad><pad><pad><pad><pad><pad><pad><pad><pad><pad><pad><pad><pad><pad><pad><pad><pad><pad><pad><pad><pad><pad><pad><pad><pad><pad><pad><pad><pad><pad><pad><pad><pad><pad><pad><pad><pad><pad><pad><pad><pad><pad><pad><pad><pad><pad><pad><pad><pad><pad><pad><pad><pad><pad><pad><pad><pad><pad><pad><pad><pad><pad><pad><pad><pad><pad><pad><pad><pad><pad><pad><pad><pad><pad><pad><pad><pad><pad><pad><pad><pad><pad><pad><pad><pad><pad><pad><pad><pad><pad><pad><pad><pad><pad><pad><pad><pad><pad><pad><pad><pad><pad><pad><pad><pad><pad><pad><pad><pad><pad><pad><pad><pad><pad><pad><pad><pad><pad><pad><pad><pad><pad><pad><pad><pad><pad><pad><pad><pad><pad><pad><pad><pad><pad><pad><pad><pad><pad><pad><pad><pad><pad><pad><pad><pad><pad><pad><pad><pad><pad><pad><pad><pad><pad><pad><pad><pad><pad><pad><pad><pad><pad><pad><pad><pad><pad><pad><pad><pad><pad><pad><pad><pad><pad><pad><pad><pad><pad><pad><pad><pad><pad><pad><pad><pad><pad><pad><pad><pad><pad><pad><pad><pad><pad><pad><pad><pad><pad><pad><pad><pad><pad><pad><pad><pad><pad><pad><pad><pad><pad><pad>\n",
      "target\n",
      " former england forward emile heskey has been training with bolton .and heskey played his first game for the club on monday evening .the 36-year-old featured as the wanderers under 21 side lost to reading .heskey is hoping to secure a short-term deal with the championship side .<eos>\n",
      "120.73248386383057\n",
      "<bos>emile heskey has been training with bolton since early december .former england international has been out of contract since leaving a club .former england international has been out of contract since leaving a league side newcastle jets .<eos>\n",
      "123.36268877983093\n",
      "<bos>emile heskey has been training with bolton since early december .former england international has been out of contract since leaving a club .former england international has been out of contract since leaving a league side newcastle jets .<eos>\n",
      "123.17485427856445\n",
      "<bos>emile heskeyy has been training with bolton since early december .former england international has been out of contract since leaving a club .former england international has been out of contract since leaving a league side newcastle jets .<eos>\n",
      "120.39802241325378\n",
      "<bos>emile heskeyy is out of contract since leaving a club .former england international has been out of contract since leaving a club .he is hopeful of securing a short-term deal with the championship side .<eos>\n",
      "120.06077337265015\n",
      "<bos>emile heskeyy is training with bolton since early december .former england international has been out of contract since leaving a club .former england international has been out of contract since leaving a league side newcastle jets .<eos>\n",
      "pred\n",
      " emile heskey has been training with bolton since early december .former england international has been out of contract since leaving a club .former england international has been out of contract since leaving a league side newcastle jets .<eos>\n",
      "{'rouge1_fmeasure': tensor(0.2955), 'rouge1_precision': tensor(0.3421), 'rouge1_recall': tensor(0.2600), 'rouge2_fmeasure': tensor(0.1628), 'rouge2_precision': tensor(0.1892), 'rouge2_recall': tensor(0.1429), 'rougeL_fmeasure': tensor(0.2500), 'rougeL_precision': tensor(0.2895), 'rougeL_recall': tensor(0.2200)}\n"
     ]
    }
   ],
   "source": [
    "idx = 10\n",
    "with torch.no_grad():\n",
    "    print(f'story\\n')\n",
    "    print(tokenizer.detokenize(x[idx].numpy()))\n",
    "    output = inference(x[idx].numpy())\n",
    "    target = tokenizer.detokenize(y[idx,1:][w[idx]])\n",
    "    print(f'target\\n {target}')\n",
    "    for pp, tokens in output:\n",
    "        print(pp)\n",
    "        print(tokenizer.detokenize(tokens))\n",
    "    preds = tokenizer.detokenize(output[0][1][1:])\n",
    "    print(f\"pred\\n {preds}\")\n",
    "    print(rouge_score(preds, target, rouge_keys=('rouge1','rouge2','rougeL')))"
   ]
  },
  {
   "cell_type": "code",
   "execution_count": 153,
   "id": "e98fb33a",
   "metadata": {},
   "outputs": [],
   "source": [
    "from datetime import datetime"
   ]
  },
  {
   "cell_type": "code",
   "execution_count": 161,
   "id": "cd1746ff",
   "metadata": {},
   "outputs": [
    {
     "name": "stdout",
     "output_type": "stream",
     "text": [
      "2022-12-30 18:08:40.666045\n",
      "0.3424490988254547, 0.13190190494060516, 0.2597731947898865\n",
      "2022-12-30 18:11:42.521195\n",
      "0.3308875560760498, 0.12419041991233826, 0.2535352110862732\n",
      "2022-12-30 18:14:36.651442\n",
      "0.3252846300601959, 0.1143350675702095, 0.24620306491851807\n",
      "2022-12-30 18:17:25.300031\n",
      "0.32439371943473816, 0.11838701367378235, 0.24760843813419342\n",
      "2022-12-30 18:20:45.378227\n",
      "0.31992146372795105, 0.11551003158092499, 0.2458784133195877\n",
      "2022-12-30 18:23:32.824114\n",
      "0.31899914145469666, 0.11630917340517044, 0.24449707567691803\n",
      "2022-12-30 18:26:27.449448\n",
      "0.31821122765541077, 0.11574387550354004, 0.244820699095726\n",
      "2022-12-30 18:29:26.379701\n",
      "0.321756511926651, 0.12073605507612228, 0.24934828281402588\n",
      "2022-12-30 18:32:21.999356\n",
      "0.32387012243270874, 0.12303820252418518, 0.2505589723587036\n",
      "2022-12-30 18:35:09.259304\n",
      "0.32046955823898315, 0.12024302780628204, 0.2484174221754074\n",
      "2022-12-30 18:38:14.152169\n",
      "0.31932327151298523, 0.11994259059429169, 0.2479528784751892\n",
      "2022-12-30 18:41:23.760354\n",
      "0.32129406929016113, 0.11996997147798538, 0.24851292371749878\n",
      "2022-12-30 18:43:59.220249\n",
      "0.3188498318195343, 0.1193164736032486, 0.24726349115371704\n",
      "2022-12-30 18:46:41.533611\n",
      "0.3214159309864044, 0.12358503043651581, 0.2502600848674774\n",
      "2022-12-30 18:49:42.567062\n",
      "0.3216772675514221, 0.12386618554592133, 0.2508014440536499\n",
      "2022-12-30 18:52:26.033059\n",
      "0.3188968300819397, 0.122672438621521, 0.24983900785446167\n",
      "2022-12-30 18:55:00.890689\n",
      "0.3171999454498291, 0.12162721902132034, 0.24820423126220703\n",
      "2022-12-30 18:58:04.418345\n",
      "0.31656181812286377, 0.12087155878543854, 0.24721799790859222\n",
      "2022-12-30 19:00:53.767362\n",
      "0.31450530886650085, 0.11909570544958115, 0.24541422724723816\n",
      "2022-12-30 19:03:57.624722\n",
      "0.3146733343601227, 0.11762718111276627, 0.24467483162879944\n",
      "2022-12-30 19:07:12.827134\n",
      "0.3151184618473053, 0.11787410080432892, 0.24467146396636963\n",
      "2022-12-30 19:10:13.677767\n",
      "0.3139391243457794, 0.11765789985656738, 0.24426966905593872\n",
      "2022-12-30 19:13:17.994061\n",
      "0.313273549079895, 0.11743408441543579, 0.24385976791381836\n",
      "2022-12-30 19:16:24.012692\n",
      "0.31210556626319885, 0.11639154702425003, 0.24354565143585205\n",
      "2022-12-30 19:19:26.613468\n",
      "0.3112010359764099, 0.11580560356378555, 0.24294592440128326\n",
      "2022-12-30 19:22:28.494241\n",
      "0.31228938698768616, 0.11665742099285126, 0.24346782267093658\n",
      "2022-12-30 19:25:25.529637\n",
      "0.31399476528167725, 0.11728444695472717, 0.24444173276424408\n",
      "2022-12-30 19:28:17.204675\n",
      "0.31333252787590027, 0.11701588332653046, 0.2440411001443863\n",
      "2022-12-30 19:31:20.208300\n",
      "0.3147642910480499, 0.11780218780040741, 0.24545304477214813\n",
      "2022-12-30 19:34:00.719109\n",
      "0.3143092095851898, 0.11781148612499237, 0.24517735838890076\n",
      "2022-12-30 19:36:47.378374\n",
      "0.3153530955314636, 0.11812065541744232, 0.24594631791114807\n",
      "2022-12-30 19:39:37.480262\n",
      "0.3139948546886444, 0.1172168031334877, 0.24481700360774994\n",
      "2022-12-30 19:42:27.756096\n",
      "0.3135111629962921, 0.1168852373957634, 0.24442553520202637\n",
      "2022-12-30 19:45:14.403784\n",
      "0.3132975101470947, 0.11734707653522491, 0.24452972412109375\n",
      "2022-12-30 19:48:33.048801\n",
      "0.3135816156864166, 0.11756045371294022, 0.24462835490703583\n",
      "2022-12-30 19:51:34.739363\n",
      "0.3136918544769287, 0.11750534921884537, 0.24444352090358734\n",
      "2022-12-30 19:54:31.482536\n",
      "0.31318360567092896, 0.1169838160276413, 0.24439094960689545\n",
      "2022-12-30 19:57:24.831005\n",
      "0.3138170540332794, 0.11733987182378769, 0.24488236010074615\n",
      "2022-12-30 20:00:13.135693\n",
      "0.31363600492477417, 0.11740566790103912, 0.24506443738937378\n",
      "2022-12-30 20:02:55.583375\n",
      "0.3142733573913574, 0.11758401244878769, 0.24542562663555145\n",
      "2022-12-30 20:05:53.351015\n",
      "0.31421592831611633, 0.1176941767334938, 0.2454856038093567\n",
      "2022-12-30 20:08:36.522696\n",
      "0.3143956959247589, 0.11761914938688278, 0.24558904767036438\n",
      "2022-12-30 20:11:27.270860\n",
      "0.3143402338027954, 0.11762306094169617, 0.24536655843257904\n",
      "2022-12-30 20:14:34.119556\n",
      "0.3140774071216583, 0.1174340546131134, 0.2450350672006607\n",
      "2022-12-30 20:17:32.629453\n",
      "0.3146637976169586, 0.11817777156829834, 0.24527877569198608\n",
      "2022-12-30 20:20:45.742742\n",
      "0.31427088379859924, 0.11793489754199982, 0.24512401223182678\n",
      "2022-12-30 20:23:10.876688\n",
      "0.3145880401134491, 0.11892938613891602, 0.24547487497329712\n",
      "2022-12-30 20:25:59.265830\n",
      "0.3144754469394684, 0.11859933286905289, 0.24506767094135284\n",
      "2022-12-30 20:28:51.415947\n",
      "0.314052015542984, 0.11843564361333847, 0.24470101296901703\n",
      "2022-12-30 20:31:54.808455\n",
      "0.3133561611175537, 0.11804251372814178, 0.2442149668931961\n",
      "2022-12-30 20:34:47.326313\n",
      "0.31325969099998474, 0.1181899830698967, 0.24438312649726868\n",
      "2022-12-30 20:37:38.914206\n",
      "0.31398308277130127, 0.1186295747756958, 0.24505123496055603\n",
      "2022-12-30 20:40:26.298865\n",
      "0.31428179144859314, 0.11884146928787231, 0.24543699622154236\n",
      "2022-12-30 20:43:15.399146\n",
      "0.31431955099105835, 0.11872700601816177, 0.24531908333301544\n",
      "2022-12-30 20:46:23.079104\n",
      "0.3151874244213104, 0.11893445998430252, 0.24597495794296265\n",
      "2022-12-30 20:49:14.658775\n",
      "0.3151354193687439, 0.11891473829746246, 0.24589784443378448\n",
      "2022-12-30 20:52:01.293454\n",
      "0.31559106707572937, 0.11938203126192093, 0.24611662328243256\n",
      "2022-12-30 20:54:52.301370\n",
      "0.31520453095436096, 0.11903738975524902, 0.2458503395318985\n",
      "2022-12-30 20:57:47.135067\n",
      "0.31477072834968567, 0.11877944320440292, 0.24556323885917664\n",
      "2022-12-30 21:00:47.997136\n",
      "0.31556326150894165, 0.11930855363607407, 0.24608254432678223\n",
      "2022-12-30 21:03:44.467863\n",
      "0.31574732065200806, 0.11943114548921585, 0.2460629791021347\n",
      "2022-12-30 21:06:27.918888\n",
      "0.315182626247406, 0.119207464158535, 0.24559102952480316\n",
      "2022-12-30 21:09:23.779293\n",
      "0.3156749904155731, 0.11984296143054962, 0.24595923721790314\n",
      "2022-12-30 21:12:13.455845\n",
      "0.3153672218322754, 0.11962830275297165, 0.24572014808654785\n",
      "2022-12-30 21:15:02.122858\n",
      "0.31492239236831665, 0.11938019841909409, 0.2452768087387085\n",
      "2022-12-30 21:18:04.634762\n",
      "0.3149266242980957, 0.11938957124948502, 0.24520812928676605\n",
      "2022-12-30 21:21:06.498005\n",
      "0.31501492857933044, 0.11947359889745712, 0.24552832543849945\n"
     ]
    },
    {
     "name": "stderr",
     "output_type": "stream",
     "text": [
      "[nltk_data] Error loading punkt: <urlopen error [Errno 61] Connection\n",
      "[nltk_data]     refused>\n",
      "[nltk_data] Error loading punkt: <urlopen error [Errno 61] Connection\n",
      "[nltk_data]     refused>\n",
      "[nltk_data] Error loading punkt: <urlopen error [Errno 61] Connection\n",
      "[nltk_data]     refused>\n",
      "[nltk_data] Error loading punkt: <urlopen error [Errno 61] Connection\n",
      "[nltk_data]     refused>\n",
      "[nltk_data] Error loading punkt: <urlopen error [Errno 61] Connection\n",
      "[nltk_data]     refused>\n",
      "[nltk_data] Error loading punkt: <urlopen error [Errno 61] Connection\n",
      "[nltk_data]     refused>\n",
      "[nltk_data] Error loading punkt: <urlopen error [Errno 61] Connection\n",
      "[nltk_data]     refused>\n",
      "[nltk_data] Error loading punkt: <urlopen error [Errno 61] Connection\n",
      "[nltk_data]     refused>\n",
      "[nltk_data] Error loading punkt: <urlopen error [Errno 61] Connection\n",
      "[nltk_data]     refused>\n",
      "[nltk_data] Error loading punkt: <urlopen error [Errno 61] Connection\n",
      "[nltk_data]     refused>\n",
      "[nltk_data] Error loading punkt: <urlopen error [Errno 61] Connection\n",
      "[nltk_data]     refused>\n",
      "[nltk_data] Error loading punkt: <urlopen error [Errno 61] Connection\n",
      "[nltk_data]     refused>\n"
     ]
    },
    {
     "name": "stdout",
     "output_type": "stream",
     "text": [
      "2022-12-30 21:23:38.864829\n",
      "0.31495699286460876, 0.11929076910018921, 0.24537906050682068\n"
     ]
    },
    {
     "name": "stderr",
     "output_type": "stream",
     "text": [
      "[nltk_data] Error loading punkt: <urlopen error [Errno 61] Connection\n",
      "[nltk_data]     refused>\n",
      "[nltk_data] Error loading punkt: <urlopen error [Errno 61] Connection\n",
      "[nltk_data]     refused>\n",
      "[nltk_data] Error loading punkt: <urlopen error [Errno 61] Connection\n",
      "[nltk_data]     refused>\n",
      "[nltk_data] Error loading punkt: <urlopen error [Errno 61] Connection\n",
      "[nltk_data]     refused>\n",
      "[nltk_data] Error loading punkt: <urlopen error [Errno 61] Connection\n",
      "[nltk_data]     refused>\n",
      "[nltk_data] Error loading punkt: <urlopen error [Errno 61] Connection\n",
      "[nltk_data]     refused>\n",
      "[nltk_data] Error loading punkt: <urlopen error [Errno 61] Connection\n",
      "[nltk_data]     refused>\n",
      "[nltk_data] Error loading punkt: <urlopen error [Errno 61] Connection\n",
      "[nltk_data]     refused>\n",
      "[nltk_data] Error loading punkt: <urlopen error [Errno 61] Connection\n",
      "[nltk_data]     refused>\n",
      "[nltk_data] Error loading punkt: <urlopen error [Errno 61] Connection\n",
      "[nltk_data]     refused>\n",
      "[nltk_data] Error loading punkt: <urlopen error [Errno 61] Connection\n",
      "[nltk_data]     refused>\n",
      "[nltk_data] Error loading punkt: <urlopen error [Errno 61] Connection\n",
      "[nltk_data]     refused>\n",
      "[nltk_data] Error loading punkt: <urlopen error [Errno 61] Connection\n",
      "[nltk_data]     refused>\n",
      "[nltk_data] Error loading punkt: <urlopen error [Errno 61] Connection\n",
      "[nltk_data]     refused>\n",
      "[nltk_data] Error loading punkt: <urlopen error [Errno 61] Connection\n",
      "[nltk_data]     refused>\n",
      "[nltk_data] Error loading punkt: <urlopen error [Errno 61] Connection\n",
      "[nltk_data]     refused>\n",
      "[nltk_data] Error loading punkt: <urlopen error [Errno 61] Connection\n",
      "[nltk_data]     refused>\n",
      "[nltk_data] Error loading punkt: <urlopen error [Errno 61] Connection\n",
      "[nltk_data]     refused>\n",
      "[nltk_data] Error loading punkt: <urlopen error [Errno 61] Connection\n",
      "[nltk_data]     refused>\n",
      "[nltk_data] Error loading punkt: <urlopen error [Errno 61] Connection\n",
      "[nltk_data]     refused>\n",
      "[nltk_data] Error loading punkt: <urlopen error [Errno 61] Connection\n",
      "[nltk_data]     refused>\n",
      "[nltk_data] Error loading punkt: <urlopen error [Errno 61] Connection\n",
      "[nltk_data]     refused>\n",
      "[nltk_data] Error loading punkt: <urlopen error [Errno 61] Connection\n",
      "[nltk_data]     refused>\n",
      "[nltk_data] Error loading punkt: <urlopen error [Errno 61] Connection\n",
      "[nltk_data]     refused>\n",
      "[nltk_data] Error loading punkt: <urlopen error [Errno 61] Connection\n",
      "[nltk_data]     refused>\n",
      "[nltk_data] Error loading punkt: <urlopen error [Errno 61] Connection\n",
      "[nltk_data]     refused>\n",
      "[nltk_data] Error loading punkt: <urlopen error [Errno 61] Connection\n",
      "[nltk_data]     refused>\n",
      "[nltk_data] Error loading punkt: <urlopen error [Errno 61] Connection\n",
      "[nltk_data]     refused>\n",
      "[nltk_data] Error loading punkt: <urlopen error [Errno 61] Connection\n",
      "[nltk_data]     refused>\n",
      "[nltk_data] Error loading punkt: <urlopen error [Errno 61] Connection\n",
      "[nltk_data]     refused>\n",
      "[nltk_data] Error loading punkt: <urlopen error [Errno 61] Connection\n",
      "[nltk_data]     refused>\n",
      "[nltk_data] Error loading punkt: <urlopen error [Errno 61] Connection\n",
      "[nltk_data]     refused>\n"
     ]
    },
    {
     "name": "stdout",
     "output_type": "stream",
     "text": [
      "2022-12-30 21:26:18.764617\n",
      "0.3148644268512726, 0.11929704248905182, 0.24538075923919678\n"
     ]
    },
    {
     "name": "stderr",
     "output_type": "stream",
     "text": [
      "[nltk_data] Error loading punkt: <urlopen error [Errno 61] Connection\n",
      "[nltk_data]     refused>\n",
      "[nltk_data] Error loading punkt: <urlopen error [Errno 61] Connection\n",
      "[nltk_data]     refused>\n",
      "[nltk_data] Error loading punkt: <urlopen error [Errno 61] Connection\n",
      "[nltk_data]     refused>\n",
      "[nltk_data] Error loading punkt: <urlopen error [Errno 61] Connection\n",
      "[nltk_data]     refused>\n",
      "[nltk_data] Error loading punkt: <urlopen error [Errno 61] Connection\n",
      "[nltk_data]     refused>\n",
      "[nltk_data] Error loading punkt: <urlopen error [Errno 61] Connection\n",
      "[nltk_data]     refused>\n",
      "[nltk_data] Error loading punkt: <urlopen error [Errno 61] Connection\n",
      "[nltk_data]     refused>\n",
      "[nltk_data] Error loading punkt: <urlopen error [Errno 61] Connection\n",
      "[nltk_data]     refused>\n",
      "[nltk_data] Error loading punkt: <urlopen error [Errno 61] Connection\n",
      "[nltk_data]     refused>\n",
      "[nltk_data] Error loading punkt: <urlopen error [Errno 61] Connection\n",
      "[nltk_data]     refused>\n",
      "[nltk_data] Error loading punkt: <urlopen error [Errno 61] Connection\n",
      "[nltk_data]     refused>\n",
      "[nltk_data] Error loading punkt: <urlopen error [Errno 61] Connection\n",
      "[nltk_data]     refused>\n",
      "[nltk_data] Error loading punkt: <urlopen error [Errno 61] Connection\n",
      "[nltk_data]     refused>\n",
      "[nltk_data] Error loading punkt: <urlopen error [Errno 61] Connection\n",
      "[nltk_data]     refused>\n",
      "[nltk_data] Error loading punkt: <urlopen error [Errno 61] Connection\n",
      "[nltk_data]     refused>\n",
      "[nltk_data] Error loading punkt: <urlopen error [Errno 61] Connection\n",
      "[nltk_data]     refused>\n",
      "[nltk_data] Error loading punkt: <urlopen error [Errno 61] Connection\n",
      "[nltk_data]     refused>\n",
      "[nltk_data] Error loading punkt: <urlopen error [Errno 61] Connection\n",
      "[nltk_data]     refused>\n",
      "[nltk_data] Error loading punkt: <urlopen error [Errno 61] Connection\n",
      "[nltk_data]     refused>\n",
      "[nltk_data] Error loading punkt: <urlopen error [Errno 61] Connection\n",
      "[nltk_data]     refused>\n",
      "[nltk_data] Error loading punkt: <urlopen error [Errno 61] Connection\n",
      "[nltk_data]     refused>\n",
      "[nltk_data] Error loading punkt: <urlopen error [Errno 61] Connection\n",
      "[nltk_data]     refused>\n",
      "[nltk_data] Error loading punkt: <urlopen error [Errno 61] Connection\n",
      "[nltk_data]     refused>\n",
      "[nltk_data] Error loading punkt: <urlopen error [Errno 61] Connection\n",
      "[nltk_data]     refused>\n",
      "[nltk_data] Error loading punkt: <urlopen error [Errno 61] Connection\n",
      "[nltk_data]     refused>\n",
      "[nltk_data] Error loading punkt: <urlopen error [Errno 61] Connection\n",
      "[nltk_data]     refused>\n",
      "[nltk_data] Error loading punkt: <urlopen error [Errno 61] Connection\n",
      "[nltk_data]     refused>\n",
      "[nltk_data] Error loading punkt: <urlopen error [Errno 61] Connection\n",
      "[nltk_data]     refused>\n",
      "[nltk_data] Error loading punkt: <urlopen error [Errno 61] Connection\n",
      "[nltk_data]     refused>\n",
      "[nltk_data] Error loading punkt: <urlopen error [Errno 61] Connection\n",
      "[nltk_data]     refused>\n",
      "[nltk_data] Error loading punkt: <urlopen error [Errno 61] Connection\n",
      "[nltk_data]     refused>\n",
      "[nltk_data] Error loading punkt: <urlopen error [Errno 61] Connection\n",
      "[nltk_data]     refused>\n"
     ]
    },
    {
     "name": "stdout",
     "output_type": "stream",
     "text": [
      "2022-12-30 21:29:11.522807\n",
      "0.314696729183197, 0.11897536367177963, 0.24519209563732147\n"
     ]
    },
    {
     "name": "stderr",
     "output_type": "stream",
     "text": [
      "[nltk_data] Error loading punkt: <urlopen error [Errno 61] Connection\n",
      "[nltk_data]     refused>\n",
      "[nltk_data] Error loading punkt: <urlopen error [Errno 61] Connection\n",
      "[nltk_data]     refused>\n",
      "[nltk_data] Error loading punkt: <urlopen error [Errno 61] Connection\n",
      "[nltk_data]     refused>\n",
      "[nltk_data] Error loading punkt: <urlopen error [Errno 61] Connection\n",
      "[nltk_data]     refused>\n",
      "[nltk_data] Error loading punkt: <urlopen error [Errno 61] Connection\n",
      "[nltk_data]     refused>\n",
      "[nltk_data] Error loading punkt: <urlopen error [Errno 61] Connection\n",
      "[nltk_data]     refused>\n",
      "[nltk_data] Error loading punkt: <urlopen error [Errno 61] Connection\n",
      "[nltk_data]     refused>\n",
      "[nltk_data] Error loading punkt: <urlopen error [Errno 61] Connection\n",
      "[nltk_data]     refused>\n",
      "[nltk_data] Error loading punkt: <urlopen error [Errno 61] Connection\n",
      "[nltk_data]     refused>\n",
      "[nltk_data] Error loading punkt: <urlopen error [Errno 61] Connection\n",
      "[nltk_data]     refused>\n",
      "[nltk_data] Error loading punkt: <urlopen error [Errno 61] Connection\n",
      "[nltk_data]     refused>\n",
      "[nltk_data] Error loading punkt: <urlopen error [Errno 61] Connection\n",
      "[nltk_data]     refused>\n",
      "[nltk_data] Error loading punkt: <urlopen error [Errno 61] Connection\n",
      "[nltk_data]     refused>\n",
      "[nltk_data] Error loading punkt: <urlopen error [Errno 61] Connection\n",
      "[nltk_data]     refused>\n",
      "[nltk_data] Error loading punkt: <urlopen error [Errno 61] Connection\n",
      "[nltk_data]     refused>\n",
      "[nltk_data] Error loading punkt: <urlopen error [Errno 61] Connection\n",
      "[nltk_data]     refused>\n",
      "[nltk_data] Error loading punkt: <urlopen error [Errno 61] Connection\n",
      "[nltk_data]     refused>\n",
      "[nltk_data] Error loading punkt: <urlopen error [Errno 61] Connection\n",
      "[nltk_data]     refused>\n",
      "[nltk_data] Error loading punkt: <urlopen error [Errno 61] Connection\n",
      "[nltk_data]     refused>\n",
      "[nltk_data] Error loading punkt: <urlopen error [Errno 61] Connection\n",
      "[nltk_data]     refused>\n",
      "[nltk_data] Error loading punkt: <urlopen error [Errno 61] Connection\n",
      "[nltk_data]     refused>\n",
      "[nltk_data] Error loading punkt: <urlopen error [Errno 61] Connection\n",
      "[nltk_data]     refused>\n",
      "[nltk_data] Error loading punkt: <urlopen error [Errno 61] Connection\n",
      "[nltk_data]     refused>\n",
      "[nltk_data] Error loading punkt: <urlopen error [Errno 61] Connection\n",
      "[nltk_data]     refused>\n",
      "[nltk_data] Error loading punkt: <urlopen error [Errno 61] Connection\n",
      "[nltk_data]     refused>\n",
      "[nltk_data] Error loading punkt: <urlopen error [Errno 61] Connection\n",
      "[nltk_data]     refused>\n",
      "[nltk_data] Error loading punkt: <urlopen error [Errno 61] Connection\n",
      "[nltk_data]     refused>\n",
      "[nltk_data] Error loading punkt: <urlopen error [Errno 61] Connection\n",
      "[nltk_data]     refused>\n",
      "[nltk_data] Error loading punkt: <urlopen error [Errno 61] Connection\n",
      "[nltk_data]     refused>\n",
      "[nltk_data] Error loading punkt: <urlopen error [Errno 61] Connection\n",
      "[nltk_data]     refused>\n",
      "[nltk_data] Error loading punkt: <urlopen error [Errno 61] Connection\n",
      "[nltk_data]     refused>\n",
      "[nltk_data] Error loading punkt: <urlopen error [Errno 61] Connection\n",
      "[nltk_data]     refused>\n"
     ]
    },
    {
     "name": "stdout",
     "output_type": "stream",
     "text": [
      "2022-12-30 21:32:04.161272\n",
      "0.31460100412368774, 0.11890220642089844, 0.24527256190776825\n"
     ]
    },
    {
     "name": "stderr",
     "output_type": "stream",
     "text": [
      "[nltk_data] Error loading punkt: <urlopen error [Errno 61] Connection\n",
      "[nltk_data]     refused>\n",
      "[nltk_data] Error loading punkt: <urlopen error [Errno 61] Connection\n",
      "[nltk_data]     refused>\n",
      "[nltk_data] Error loading punkt: <urlopen error [Errno 61] Connection\n",
      "[nltk_data]     refused>\n",
      "[nltk_data] Error loading punkt: <urlopen error [Errno 61] Connection\n",
      "[nltk_data]     refused>\n",
      "[nltk_data] Error loading punkt: <urlopen error [Errno 61] Connection\n",
      "[nltk_data]     refused>\n",
      "[nltk_data] Error loading punkt: <urlopen error [Errno 61] Connection\n",
      "[nltk_data]     refused>\n",
      "[nltk_data] Error loading punkt: <urlopen error [Errno 61] Connection\n",
      "[nltk_data]     refused>\n",
      "[nltk_data] Error loading punkt: <urlopen error [Errno 61] Connection\n",
      "[nltk_data]     refused>\n",
      "[nltk_data] Error loading punkt: <urlopen error [Errno 61] Connection\n",
      "[nltk_data]     refused>\n",
      "[nltk_data] Error loading punkt: <urlopen error [Errno 61] Connection\n",
      "[nltk_data]     refused>\n",
      "[nltk_data] Error loading punkt: <urlopen error [Errno 61] Connection\n",
      "[nltk_data]     refused>\n",
      "[nltk_data] Error loading punkt: <urlopen error [Errno 61] Connection\n",
      "[nltk_data]     refused>\n",
      "[nltk_data] Error loading punkt: <urlopen error [Errno 61] Connection\n",
      "[nltk_data]     refused>\n",
      "[nltk_data] Error loading punkt: <urlopen error [Errno 61] Connection\n",
      "[nltk_data]     refused>\n",
      "[nltk_data] Error loading punkt: <urlopen error [Errno 61] Connection\n",
      "[nltk_data]     refused>\n",
      "[nltk_data] Error loading punkt: <urlopen error [Errno 61] Connection\n",
      "[nltk_data]     refused>\n",
      "[nltk_data] Error loading punkt: <urlopen error [Errno 61] Connection\n",
      "[nltk_data]     refused>\n",
      "[nltk_data] Error loading punkt: <urlopen error [Errno 61] Connection\n",
      "[nltk_data]     refused>\n",
      "[nltk_data] Error loading punkt: <urlopen error [Errno 61] Connection\n",
      "[nltk_data]     refused>\n",
      "[nltk_data] Error loading punkt: <urlopen error [Errno 61] Connection\n",
      "[nltk_data]     refused>\n",
      "[nltk_data] Error loading punkt: <urlopen error [Errno 61] Connection\n",
      "[nltk_data]     refused>\n",
      "[nltk_data] Error loading punkt: <urlopen error [Errno 61] Connection\n",
      "[nltk_data]     refused>\n",
      "[nltk_data] Error loading punkt: <urlopen error [Errno 61] Connection\n",
      "[nltk_data]     refused>\n",
      "[nltk_data] Error loading punkt: <urlopen error [Errno 61] Connection\n",
      "[nltk_data]     refused>\n",
      "[nltk_data] Error loading punkt: <urlopen error [Errno 61] Connection\n",
      "[nltk_data]     refused>\n",
      "[nltk_data] Error loading punkt: <urlopen error [Errno 61] Connection\n",
      "[nltk_data]     refused>\n",
      "[nltk_data] Error loading punkt: <urlopen error [Errno 61] Connection\n",
      "[nltk_data]     refused>\n",
      "[nltk_data] Error loading punkt: <urlopen error [Errno 61] Connection\n",
      "[nltk_data]     refused>\n",
      "[nltk_data] Error loading punkt: <urlopen error [Errno 61] Connection\n",
      "[nltk_data]     refused>\n",
      "[nltk_data] Error loading punkt: <urlopen error [Errno 61] Connection\n",
      "[nltk_data]     refused>\n",
      "[nltk_data] Error loading punkt: <urlopen error [Errno 61] Connection\n",
      "[nltk_data]     refused>\n",
      "[nltk_data] Error loading punkt: <urlopen error [Errno 61] Connection\n",
      "[nltk_data]     refused>\n"
     ]
    },
    {
     "name": "stdout",
     "output_type": "stream",
     "text": [
      "2022-12-30 21:34:45.055340\n",
      "0.3143572211265564, 0.11864088475704193, 0.24503663182258606\n"
     ]
    },
    {
     "name": "stderr",
     "output_type": "stream",
     "text": [
      "[nltk_data] Error loading punkt: <urlopen error [Errno 61] Connection\n",
      "[nltk_data]     refused>\n",
      "[nltk_data] Error loading punkt: <urlopen error [Errno 61] Connection\n",
      "[nltk_data]     refused>\n",
      "[nltk_data] Error loading punkt: <urlopen error [Errno 61] Connection\n",
      "[nltk_data]     refused>\n",
      "[nltk_data] Error loading punkt: <urlopen error [Errno 61] Connection\n",
      "[nltk_data]     refused>\n",
      "[nltk_data] Error loading punkt: <urlopen error [Errno 61] Connection\n",
      "[nltk_data]     refused>\n",
      "[nltk_data] Error loading punkt: <urlopen error [Errno 61] Connection\n",
      "[nltk_data]     refused>\n",
      "[nltk_data] Error loading punkt: <urlopen error [Errno 61] Connection\n",
      "[nltk_data]     refused>\n",
      "[nltk_data] Error loading punkt: <urlopen error [Errno 61] Connection\n",
      "[nltk_data]     refused>\n",
      "[nltk_data] Error loading punkt: <urlopen error [Errno 61] Connection\n",
      "[nltk_data]     refused>\n",
      "[nltk_data] Error loading punkt: <urlopen error [Errno 61] Connection\n",
      "[nltk_data]     refused>\n",
      "[nltk_data] Error loading punkt: <urlopen error [Errno 61] Connection\n",
      "[nltk_data]     refused>\n",
      "[nltk_data] Error loading punkt: <urlopen error [Errno 61] Connection\n",
      "[nltk_data]     refused>\n",
      "[nltk_data] Error loading punkt: <urlopen error [Errno 61] Connection\n",
      "[nltk_data]     refused>\n",
      "[nltk_data] Error loading punkt: <urlopen error [Errno 61] Connection\n",
      "[nltk_data]     refused>\n",
      "[nltk_data] Error loading punkt: <urlopen error [Errno 61] Connection\n",
      "[nltk_data]     refused>\n",
      "[nltk_data] Error loading punkt: <urlopen error [Errno 61] Connection\n",
      "[nltk_data]     refused>\n",
      "[nltk_data] Error loading punkt: <urlopen error [Errno 61] Connection\n",
      "[nltk_data]     refused>\n",
      "[nltk_data] Error loading punkt: <urlopen error [Errno 61] Connection\n",
      "[nltk_data]     refused>\n",
      "[nltk_data] Error loading punkt: <urlopen error [Errno 61] Connection\n",
      "[nltk_data]     refused>\n",
      "[nltk_data] Error loading punkt: <urlopen error [Errno 61] Connection\n",
      "[nltk_data]     refused>\n",
      "[nltk_data] Error loading punkt: <urlopen error [Errno 61] Connection\n",
      "[nltk_data]     refused>\n",
      "[nltk_data] Error loading punkt: <urlopen error [Errno 61] Connection\n",
      "[nltk_data]     refused>\n",
      "[nltk_data] Error loading punkt: <urlopen error [Errno 61] Connection\n",
      "[nltk_data]     refused>\n"
     ]
    },
    {
     "ename": "KeyboardInterrupt",
     "evalue": "",
     "output_type": "error",
     "traceback": [
      "\u001b[0;31m---------------------------------------------------------------------------\u001b[0m",
      "\u001b[0;31mKeyboardInterrupt\u001b[0m                         Traceback (most recent call last)",
      "Cell \u001b[0;32mIn [161], line 6\u001b[0m\n\u001b[1;32m      4\u001b[0m         \u001b[38;5;28;01mfor\u001b[39;00m i \u001b[38;5;129;01min\u001b[39;00m \u001b[38;5;28mrange\u001b[39m(x\u001b[38;5;241m.\u001b[39mshape[\u001b[38;5;241m0\u001b[39m]):\n\u001b[1;32m      5\u001b[0m             target \u001b[38;5;241m=\u001b[39m tokenizer\u001b[38;5;241m.\u001b[39mdetokenize(y[i,\u001b[38;5;241m1\u001b[39m:][w[i]])\n\u001b[0;32m----> 6\u001b[0m             output \u001b[38;5;241m=\u001b[39m inference(x[i]\u001b[38;5;241m.\u001b[39mnumpy())\n\u001b[1;32m      7\u001b[0m             preds \u001b[38;5;241m=\u001b[39m tokenizer\u001b[38;5;241m.\u001b[39mdetokenize(output[\u001b[38;5;241m0\u001b[39m][\u001b[38;5;241m1\u001b[39m][\u001b[38;5;241m1\u001b[39m:])\n\u001b[1;32m      8\u001b[0m \u001b[38;5;66;03m#             print(target)\u001b[39;00m\n\u001b[1;32m      9\u001b[0m \u001b[38;5;66;03m#             print(preds)\u001b[39;00m\n\u001b[1;32m     10\u001b[0m \u001b[38;5;66;03m#             print(rouge_score(preds, target, rouge_keys=('rouge1','rouge2')))\u001b[39;00m\n",
      "Cell \u001b[0;32mIn [137], line 50\u001b[0m, in \u001b[0;36mBeamSearch.__call__\u001b[0;34m(self, x)\u001b[0m\n\u001b[1;32m     47\u001b[0m         \u001b[38;5;28;01mbreak\u001b[39;00m\n\u001b[1;32m     48\u001b[0m     \u001b[38;5;28;01mcontinue\u001b[39;00m\n\u001b[0;32m---> 50\u001b[0m \u001b[38;5;28;01mfor\u001b[39;00m pp, idx \u001b[38;5;129;01min\u001b[39;00m \u001b[38;5;28mzip\u001b[39m(\u001b[38;5;241m*\u001b[39m\u001b[38;5;28;43mself\u001b[39;49m\u001b[38;5;241;43m.\u001b[39;49m\u001b[43m_nexttoken\u001b[49m\u001b[43m(\u001b[49m\u001b[43mx\u001b[49m\u001b[43m,\u001b[49m\u001b[43m \u001b[49m\u001b[43my\u001b[49m\u001b[43m[\u001b[49m\u001b[38;5;28;43;01mNone\u001b[39;49;00m\u001b[43m,\u001b[49m\u001b[43m \u001b[49m\u001b[43m:\u001b[49m\u001b[43m]\u001b[49m\u001b[43m)\u001b[49m):\n\u001b[1;32m     51\u001b[0m     y_new \u001b[38;5;241m=\u001b[39m torch\u001b[38;5;241m.\u001b[39mconcat([y, torch\u001b[38;5;241m.\u001b[39mtensor([idx])])\n\u001b[1;32m     52\u001b[0m     heapq\u001b[38;5;241m.\u001b[39mheappush(queue, (\u001b[38;5;241m-\u001b[39m(p\u001b[38;5;241m+\u001b[39mpp), y_new))\n",
      "Cell \u001b[0;32mIn [137], line 17\u001b[0m, in \u001b[0;36mBeamSearch._nexttoken\u001b[0;34m(self, x, y)\u001b[0m\n\u001b[1;32m     13\u001b[0m \u001b[38;5;28;01mdef\u001b[39;00m \u001b[38;5;21m_nexttoken\u001b[39m(\u001b[38;5;28mself\u001b[39m, x, y):\n\u001b[1;32m     14\u001b[0m     \u001b[38;5;124;03m'''\u001b[39;00m\n\u001b[1;32m     15\u001b[0m \u001b[38;5;124;03m      x, y are 2D tensor 1*L including the token idx\u001b[39;00m\n\u001b[1;32m     16\u001b[0m \u001b[38;5;124;03m    '''\u001b[39;00m\n\u001b[0;32m---> 17\u001b[0m     tmp \u001b[38;5;241m=\u001b[39m \u001b[38;5;28;43mself\u001b[39;49m\u001b[38;5;241;43m.\u001b[39;49m\u001b[43mmodel\u001b[49m\u001b[43m(\u001b[49m\u001b[43mx\u001b[49m\u001b[43m,\u001b[49m\u001b[43m \u001b[49m\u001b[43my\u001b[49m\u001b[43m)\u001b[49m[\u001b[38;5;241m0\u001b[39m,\u001b[38;5;241m-\u001b[39m\u001b[38;5;241m1\u001b[39m,:]\n\u001b[1;32m     18\u001b[0m     tmp \u001b[38;5;241m=\u001b[39m torch\u001b[38;5;241m.\u001b[39mtopk(tmp, \u001b[38;5;28mself\u001b[39m\u001b[38;5;241m.\u001b[39mtopk, dim\u001b[38;5;241m=\u001b[39m\u001b[38;5;241m-\u001b[39m\u001b[38;5;241m1\u001b[39m)   \u001b[38;5;66;03m# use log(probability)\u001b[39;00m\n\u001b[1;32m     20\u001b[0m     pp \u001b[38;5;241m=\u001b[39m tmp\u001b[38;5;241m.\u001b[39mvalues\u001b[38;5;241m.\u001b[39mdetach()\u001b[38;5;241m.\u001b[39mnumpy()\n",
      "File \u001b[0;32m/opt/anaconda3/envs/cs2020/lib/python3.9/site-packages/torch/nn/modules/module.py:1130\u001b[0m, in \u001b[0;36mModule._call_impl\u001b[0;34m(self, *input, **kwargs)\u001b[0m\n\u001b[1;32m   1126\u001b[0m \u001b[38;5;66;03m# If we don't have any hooks, we want to skip the rest of the logic in\u001b[39;00m\n\u001b[1;32m   1127\u001b[0m \u001b[38;5;66;03m# this function, and just call forward.\u001b[39;00m\n\u001b[1;32m   1128\u001b[0m \u001b[38;5;28;01mif\u001b[39;00m \u001b[38;5;129;01mnot\u001b[39;00m (\u001b[38;5;28mself\u001b[39m\u001b[38;5;241m.\u001b[39m_backward_hooks \u001b[38;5;129;01mor\u001b[39;00m \u001b[38;5;28mself\u001b[39m\u001b[38;5;241m.\u001b[39m_forward_hooks \u001b[38;5;129;01mor\u001b[39;00m \u001b[38;5;28mself\u001b[39m\u001b[38;5;241m.\u001b[39m_forward_pre_hooks \u001b[38;5;129;01mor\u001b[39;00m _global_backward_hooks\n\u001b[1;32m   1129\u001b[0m         \u001b[38;5;129;01mor\u001b[39;00m _global_forward_hooks \u001b[38;5;129;01mor\u001b[39;00m _global_forward_pre_hooks):\n\u001b[0;32m-> 1130\u001b[0m     \u001b[38;5;28;01mreturn\u001b[39;00m \u001b[43mforward_call\u001b[49m\u001b[43m(\u001b[49m\u001b[38;5;241;43m*\u001b[39;49m\u001b[38;5;28;43minput\u001b[39;49m\u001b[43m,\u001b[49m\u001b[43m \u001b[49m\u001b[38;5;241;43m*\u001b[39;49m\u001b[38;5;241;43m*\u001b[39;49m\u001b[43mkwargs\u001b[49m\u001b[43m)\u001b[49m\n\u001b[1;32m   1131\u001b[0m \u001b[38;5;66;03m# Do not call functions when jit is used\u001b[39;00m\n\u001b[1;32m   1132\u001b[0m full_backward_hooks, non_full_backward_hooks \u001b[38;5;241m=\u001b[39m [], []\n",
      "File \u001b[0;32m~/Documents/jiqixuexiluodi_2021/nlp.dir/mixed_transformer_lm.py:128\u001b[0m, in \u001b[0;36mTransformerLM.forward\u001b[0;34m(self, x, y)\u001b[0m\n\u001b[1;32m    126\u001b[0m x \u001b[38;5;241m=\u001b[39m \u001b[38;5;28mself\u001b[39m\u001b[38;5;241m.\u001b[39mdropout(x \u001b[38;5;241m+\u001b[39m \u001b[38;5;28mself\u001b[39m\u001b[38;5;241m.\u001b[39mpe1(x))\n\u001b[1;32m    127\u001b[0m \u001b[38;5;28;01mfor\u001b[39;00m layer \u001b[38;5;129;01min\u001b[39;00m \u001b[38;5;28mself\u001b[39m\u001b[38;5;241m.\u001b[39mencoder_layers:\n\u001b[0;32m--> 128\u001b[0m     x \u001b[38;5;241m=\u001b[39m \u001b[43mlayer\u001b[49m\u001b[43m(\u001b[49m\u001b[43mx\u001b[49m\u001b[43m)\u001b[49m\n\u001b[1;32m    129\u001b[0m encoder_output \u001b[38;5;241m=\u001b[39m x\n\u001b[1;32m    130\u001b[0m \u001b[38;5;66;03m#t2 = datetime.now()\u001b[39;00m\n\u001b[1;32m    131\u001b[0m \u001b[38;5;66;03m#print(f'encoder total {get_time(t1,t2)}')\u001b[39;00m\n\u001b[1;32m    132\u001b[0m \n\u001b[1;32m    133\u001b[0m \u001b[38;5;66;03m#t1 = datetime.now()\u001b[39;00m\n",
      "File \u001b[0;32m/opt/anaconda3/envs/cs2020/lib/python3.9/site-packages/torch/nn/modules/module.py:1130\u001b[0m, in \u001b[0;36mModule._call_impl\u001b[0;34m(self, *input, **kwargs)\u001b[0m\n\u001b[1;32m   1126\u001b[0m \u001b[38;5;66;03m# If we don't have any hooks, we want to skip the rest of the logic in\u001b[39;00m\n\u001b[1;32m   1127\u001b[0m \u001b[38;5;66;03m# this function, and just call forward.\u001b[39;00m\n\u001b[1;32m   1128\u001b[0m \u001b[38;5;28;01mif\u001b[39;00m \u001b[38;5;129;01mnot\u001b[39;00m (\u001b[38;5;28mself\u001b[39m\u001b[38;5;241m.\u001b[39m_backward_hooks \u001b[38;5;129;01mor\u001b[39;00m \u001b[38;5;28mself\u001b[39m\u001b[38;5;241m.\u001b[39m_forward_hooks \u001b[38;5;129;01mor\u001b[39;00m \u001b[38;5;28mself\u001b[39m\u001b[38;5;241m.\u001b[39m_forward_pre_hooks \u001b[38;5;129;01mor\u001b[39;00m _global_backward_hooks\n\u001b[1;32m   1129\u001b[0m         \u001b[38;5;129;01mor\u001b[39;00m _global_forward_hooks \u001b[38;5;129;01mor\u001b[39;00m _global_forward_pre_hooks):\n\u001b[0;32m-> 1130\u001b[0m     \u001b[38;5;28;01mreturn\u001b[39;00m \u001b[43mforward_call\u001b[49m\u001b[43m(\u001b[49m\u001b[38;5;241;43m*\u001b[39;49m\u001b[38;5;28;43minput\u001b[39;49m\u001b[43m,\u001b[49m\u001b[43m \u001b[49m\u001b[38;5;241;43m*\u001b[39;49m\u001b[38;5;241;43m*\u001b[39;49m\u001b[43mkwargs\u001b[49m\u001b[43m)\u001b[49m\n\u001b[1;32m   1131\u001b[0m \u001b[38;5;66;03m# Do not call functions when jit is used\u001b[39;00m\n\u001b[1;32m   1132\u001b[0m full_backward_hooks, non_full_backward_hooks \u001b[38;5;241m=\u001b[39m [], []\n",
      "File \u001b[0;32m~/Documents/jiqixuexiluodi_2021/nlp.dir/mixed_transformer_lm.py:61\u001b[0m, in \u001b[0;36mEncoder.forward\u001b[0;34m(self, x)\u001b[0m\n\u001b[1;32m     59\u001b[0m z \u001b[38;5;241m=\u001b[39m \u001b[38;5;28mself\u001b[39m\u001b[38;5;241m.\u001b[39mnorm1(z \u001b[38;5;241m+\u001b[39m x)\n\u001b[1;32m     60\u001b[0m z \u001b[38;5;241m=\u001b[39m \u001b[38;5;28mself\u001b[39m\u001b[38;5;241m.\u001b[39mdropout(z)\n\u001b[0;32m---> 61\u001b[0m output \u001b[38;5;241m=\u001b[39m \u001b[38;5;28;43mself\u001b[39;49m\u001b[38;5;241;43m.\u001b[39;49m\u001b[43mff\u001b[49m\u001b[43m(\u001b[49m\u001b[43mz\u001b[49m\u001b[43m)\u001b[49m\n\u001b[1;32m     62\u001b[0m output \u001b[38;5;241m=\u001b[39m \u001b[38;5;28mself\u001b[39m\u001b[38;5;241m.\u001b[39mnorm2(output \u001b[38;5;241m+\u001b[39m z)\n\u001b[1;32m     63\u001b[0m \u001b[38;5;28;01mreturn\u001b[39;00m \u001b[38;5;28mself\u001b[39m\u001b[38;5;241m.\u001b[39mdropout(output)\n",
      "File \u001b[0;32m/opt/anaconda3/envs/cs2020/lib/python3.9/site-packages/torch/nn/modules/module.py:1130\u001b[0m, in \u001b[0;36mModule._call_impl\u001b[0;34m(self, *input, **kwargs)\u001b[0m\n\u001b[1;32m   1126\u001b[0m \u001b[38;5;66;03m# If we don't have any hooks, we want to skip the rest of the logic in\u001b[39;00m\n\u001b[1;32m   1127\u001b[0m \u001b[38;5;66;03m# this function, and just call forward.\u001b[39;00m\n\u001b[1;32m   1128\u001b[0m \u001b[38;5;28;01mif\u001b[39;00m \u001b[38;5;129;01mnot\u001b[39;00m (\u001b[38;5;28mself\u001b[39m\u001b[38;5;241m.\u001b[39m_backward_hooks \u001b[38;5;129;01mor\u001b[39;00m \u001b[38;5;28mself\u001b[39m\u001b[38;5;241m.\u001b[39m_forward_hooks \u001b[38;5;129;01mor\u001b[39;00m \u001b[38;5;28mself\u001b[39m\u001b[38;5;241m.\u001b[39m_forward_pre_hooks \u001b[38;5;129;01mor\u001b[39;00m _global_backward_hooks\n\u001b[1;32m   1129\u001b[0m         \u001b[38;5;129;01mor\u001b[39;00m _global_forward_hooks \u001b[38;5;129;01mor\u001b[39;00m _global_forward_pre_hooks):\n\u001b[0;32m-> 1130\u001b[0m     \u001b[38;5;28;01mreturn\u001b[39;00m \u001b[43mforward_call\u001b[49m\u001b[43m(\u001b[49m\u001b[38;5;241;43m*\u001b[39;49m\u001b[38;5;28;43minput\u001b[39;49m\u001b[43m,\u001b[49m\u001b[43m \u001b[49m\u001b[38;5;241;43m*\u001b[39;49m\u001b[38;5;241;43m*\u001b[39;49m\u001b[43mkwargs\u001b[49m\u001b[43m)\u001b[49m\n\u001b[1;32m   1131\u001b[0m \u001b[38;5;66;03m# Do not call functions when jit is used\u001b[39;00m\n\u001b[1;32m   1132\u001b[0m full_backward_hooks, non_full_backward_hooks \u001b[38;5;241m=\u001b[39m [], []\n",
      "File \u001b[0;32m~/Documents/jiqixuexiluodi_2021/nlp.dir/mixed_transformer_lm.py:46\u001b[0m, in \u001b[0;36mFeedForward.forward\u001b[0;34m(self, x)\u001b[0m\n\u001b[1;32m     42\u001b[0m \u001b[38;5;124;03m'''\u001b[39;00m\n\u001b[1;32m     43\u001b[0m \u001b[38;5;124;03mx = N * L * dmodel\u001b[39;00m\n\u001b[1;32m     44\u001b[0m \u001b[38;5;124;03m'''\u001b[39;00m\n\u001b[1;32m     45\u001b[0m x \u001b[38;5;241m=\u001b[39m \u001b[38;5;28mself\u001b[39m\u001b[38;5;241m.\u001b[39mactivation(\u001b[38;5;28mself\u001b[39m\u001b[38;5;241m.\u001b[39mfc1(x))\n\u001b[0;32m---> 46\u001b[0m \u001b[38;5;28;01mreturn\u001b[39;00m \u001b[38;5;28;43mself\u001b[39;49m\u001b[38;5;241;43m.\u001b[39;49m\u001b[43mfc2\u001b[49m\u001b[43m(\u001b[49m\u001b[43mx\u001b[49m\u001b[43m)\u001b[49m\n",
      "File \u001b[0;32m/opt/anaconda3/envs/cs2020/lib/python3.9/site-packages/torch/nn/modules/module.py:1130\u001b[0m, in \u001b[0;36mModule._call_impl\u001b[0;34m(self, *input, **kwargs)\u001b[0m\n\u001b[1;32m   1126\u001b[0m \u001b[38;5;66;03m# If we don't have any hooks, we want to skip the rest of the logic in\u001b[39;00m\n\u001b[1;32m   1127\u001b[0m \u001b[38;5;66;03m# this function, and just call forward.\u001b[39;00m\n\u001b[1;32m   1128\u001b[0m \u001b[38;5;28;01mif\u001b[39;00m \u001b[38;5;129;01mnot\u001b[39;00m (\u001b[38;5;28mself\u001b[39m\u001b[38;5;241m.\u001b[39m_backward_hooks \u001b[38;5;129;01mor\u001b[39;00m \u001b[38;5;28mself\u001b[39m\u001b[38;5;241m.\u001b[39m_forward_hooks \u001b[38;5;129;01mor\u001b[39;00m \u001b[38;5;28mself\u001b[39m\u001b[38;5;241m.\u001b[39m_forward_pre_hooks \u001b[38;5;129;01mor\u001b[39;00m _global_backward_hooks\n\u001b[1;32m   1129\u001b[0m         \u001b[38;5;129;01mor\u001b[39;00m _global_forward_hooks \u001b[38;5;129;01mor\u001b[39;00m _global_forward_pre_hooks):\n\u001b[0;32m-> 1130\u001b[0m     \u001b[38;5;28;01mreturn\u001b[39;00m \u001b[43mforward_call\u001b[49m\u001b[43m(\u001b[49m\u001b[38;5;241;43m*\u001b[39;49m\u001b[38;5;28;43minput\u001b[39;49m\u001b[43m,\u001b[49m\u001b[43m \u001b[49m\u001b[38;5;241;43m*\u001b[39;49m\u001b[38;5;241;43m*\u001b[39;49m\u001b[43mkwargs\u001b[49m\u001b[43m)\u001b[49m\n\u001b[1;32m   1131\u001b[0m \u001b[38;5;66;03m# Do not call functions when jit is used\u001b[39;00m\n\u001b[1;32m   1132\u001b[0m full_backward_hooks, non_full_backward_hooks \u001b[38;5;241m=\u001b[39m [], []\n",
      "File \u001b[0;32m/opt/anaconda3/envs/cs2020/lib/python3.9/site-packages/torch/nn/modules/linear.py:114\u001b[0m, in \u001b[0;36mLinear.forward\u001b[0;34m(self, input)\u001b[0m\n\u001b[1;32m    113\u001b[0m \u001b[38;5;28;01mdef\u001b[39;00m \u001b[38;5;21mforward\u001b[39m(\u001b[38;5;28mself\u001b[39m, \u001b[38;5;28minput\u001b[39m: Tensor) \u001b[38;5;241m-\u001b[39m\u001b[38;5;241m>\u001b[39m Tensor:\n\u001b[0;32m--> 114\u001b[0m     \u001b[38;5;28;01mreturn\u001b[39;00m \u001b[43mF\u001b[49m\u001b[38;5;241;43m.\u001b[39;49m\u001b[43mlinear\u001b[49m\u001b[43m(\u001b[49m\u001b[38;5;28;43minput\u001b[39;49m\u001b[43m,\u001b[49m\u001b[43m \u001b[49m\u001b[38;5;28;43mself\u001b[39;49m\u001b[38;5;241;43m.\u001b[39;49m\u001b[43mweight\u001b[49m\u001b[43m,\u001b[49m\u001b[43m \u001b[49m\u001b[38;5;28;43mself\u001b[39;49m\u001b[38;5;241;43m.\u001b[39;49m\u001b[43mbias\u001b[49m\u001b[43m)\u001b[49m\n",
      "\u001b[0;31mKeyboardInterrupt\u001b[0m: "
     ]
    }
   ],
   "source": [
    "with torch.no_grad():\n",
    "    rouge_1_sum, rouge_2_sum, rouge_L_sum, ntotal = 0.0, 0.0, 0.0, 0\n",
    "    for x, y, w in validation_loader:\n",
    "        for i in range(x.shape[0]):\n",
    "            target = tokenizer.detokenize(y[i,1:][w[i]])\n",
    "            output = inference(x[i].numpy())\n",
    "            preds = tokenizer.detokenize(output[0][1][1:])\n",
    "#             print(target)\n",
    "#             print(preds)\n",
    "#             print(rouge_score(preds, target, rouge_keys=('rouge1','rouge2')))\n",
    "            score = rouge_score(preds, target, rouge_keys=('rouge1','rouge2', 'rougeL'))\n",
    "            rouge_1_sum += score['rouge1_recall']\n",
    "            rouge_2_sum += score['rouge2_recall']\n",
    "            rouge_L_sum += score['rougeL_recall']\n",
    "            ntotal += 1\n",
    "        print(datetime.now())\n",
    "        print(f\"{rouge_1_sum / ntotal}, {rouge_2_sum / ntotal}, {rouge_L_sum / ntotal}\")"
   ]
  }
 ],
 "metadata": {
  "kernelspec": {
   "display_name": "Python 3 (ipykernel)",
   "language": "python",
   "name": "python3"
  },
  "language_info": {
   "codemirror_mode": {
    "name": "ipython",
    "version": 3
   },
   "file_extension": ".py",
   "mimetype": "text/x-python",
   "name": "python",
   "nbconvert_exporter": "python",
   "pygments_lexer": "ipython3",
   "version": "3.9.13"
  }
 },
 "nbformat": 4,
 "nbformat_minor": 5
}
